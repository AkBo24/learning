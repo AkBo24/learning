{
 "cells": [
  {
   "cell_type": "code",
   "execution_count": 72,
   "id": "8c7165f1-e51d-48c1-b545-06c030d6fe35",
   "metadata": {},
   "outputs": [
    {
     "data": {
      "text/plain": [
       "(data: a, edges: [], data: b, edges: [], data: c, edges: ['b'])"
      ]
     },
     "execution_count": 72,
     "metadata": {},
     "output_type": "execute_result"
    }
   ],
   "source": [
    "class Node:\n",
    "    def __init__(self, data=None, edges=None):\n",
    "        self.data  = data\n",
    "        if type(edges) == type([]):\n",
    "            self.edges = edges\n",
    "        elif edges: # assume its a node\n",
    "            self.edges = [edges]\n",
    "        else:\n",
    "            self.edges = []\n",
    "    def add_edge(self, edge = None):\n",
    "        self.edges.append(edge if edge else [])\n",
    "    def delete_edge(self, node):\n",
    "        i = 0\n",
    "        while i < len(self.edges):\n",
    "            if self.edges[i] == node:\n",
    "                self.edges.pop(i)\n",
    "            else:\n",
    "                i+=1\n",
    "    def __repr__(self):\n",
    "        return str(self)\n",
    "    def __str__(self):\n",
    "        return f\"data: {self.data}, edges: {[edge.data for edge in self.edges]}\"\n",
    "a = Node('a')\n",
    "b = Node('b', a)\n",
    "c = Node('c', [a,b])\n",
    "c.delete_edge(a)\n",
    "a,b,c"
   ]
  },
  {
   "cell_type": "code",
   "execution_count": 79,
   "id": "104dfab9-f533-4c79-82f8-bfdff1dc6740",
   "metadata": {
    "editable": true,
    "slideshow": {
     "slide_type": ""
    },
    "tags": []
   },
   "outputs": [
    {
     "name": "stdout",
     "output_type": "stream",
     "text": [
      "data: a, edges: ['b', 'c']\n",
      "data: b, edges: ['a', 'c', 'a']\n",
      "data: d, edges: []\n",
      "data: c, edges: ['a', 'b']\n",
      "data: a, edges: ['b']\n",
      "\n"
     ]
    },
    {
     "data": {
      "text/plain": [
       "data: b, edges: ['a']\n",
       "data: d, edges: []\n",
       "data: a, edges: ['b']"
      ]
     },
     "execution_count": 79,
     "metadata": {},
     "output_type": "execute_result"
    }
   ],
   "source": [
    "class Graph: #undirected\n",
    "    def __init__(self):\n",
    "        self.nodes = []\n",
    "    def add(self, data, edges=None):\n",
    "        node = Node(data, edges)\n",
    "        self.nodes.append(node)\n",
    "        for n in node.edges:\n",
    "            n.add_edge(node)\n",
    "        return node\n",
    "    def delete(self, node):\n",
    "        # delete from self.nodes\n",
    "        for i in range(len(self.nodes)):\n",
    "            if self.nodes[i] == node:\n",
    "                deleted = self.nodes.pop(i)\n",
    "                break\n",
    "        # delete all edges pointing to deleted node\n",
    "        for i in range(len(self.nodes)):\n",
    "            self.nodes[i].delete_edge(node)\n",
    "        return deleted\n",
    "    def add_edge(self, s, d):\n",
    "        for node in nodes:\n",
    "            if node == s:\n",
    "                s.add_edge(d)\n",
    "            if node == d:\n",
    "                d.add_edge(s)\n",
    "    def __repr__(self):\n",
    "        return str(self)\n",
    "    def __str__(self):\n",
    "        out = [f\"{node}\\n\" for node in self.nodes]\n",
    "        return \"\".join(out)\n",
    "\n",
    "g = Graph()\n",
    "a = g.add('a')\n",
    "b = g.add('b', a)\n",
    "d = g.add('d')\n",
    "c = g.add('c', [a,b])\n",
    "a2 = g.add('a', b)\n",
    "print(g)\n",
    "g.delete(c)\n",
    "g.delete(a)\n",
    "g"
   ]
  },
  {
   "cell_type": "code",
   "execution_count": 48,
   "id": "0cd244fa-1418-449a-b7ee-af822c9f7714",
   "metadata": {},
   "outputs": [
    {
     "data": {
      "text/plain": [
       "False"
      ]
     },
     "execution_count": 48,
     "metadata": {},
     "output_type": "execute_result"
    }
   ],
   "source": [
    "type(a) ==\"__main__.Node\""
   ]
  },
  {
   "cell_type": "code",
   "execution_count": null,
   "id": "c1e9ba81-752a-4289-8943-4bc72a41b0fa",
   "metadata": {},
   "outputs": [],
   "source": [
    "class BinarySearchTree:\n",
    "    def __init__():\n",
    "        self.root = None\n",
    "    def add():\n",
    "        pass\n",
    "    def delete(data):\n",
    "        pass\n",
    "    def find(data):\n",
    "        pass\n",
    "    def in_order_traversal():\n",
    "        pass\n",
    "    def pre_order_traversal():\n",
    "        pass\n",
    "    def post_order_traversal():\n",
    "        pass"
   ]
  }
 ],
 "metadata": {
  "kernelspec": {
   "display_name": "Python 3 (ipykernel)",
   "language": "python",
   "name": "python3"
  },
  "language_info": {
   "codemirror_mode": {
    "name": "ipython",
    "version": 3
   },
   "file_extension": ".py",
   "mimetype": "text/x-python",
   "name": "python",
   "nbconvert_exporter": "python",
   "pygments_lexer": "ipython3",
   "version": "3.12.2"
  }
 },
 "nbformat": 4,
 "nbformat_minor": 5
}
