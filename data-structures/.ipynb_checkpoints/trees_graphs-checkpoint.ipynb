{
 "cells": [
  {
   "cell_type": "code",
   "execution_count": 22,
   "id": "8c7165f1-e51d-48c1-b545-06c030d6fe35",
   "metadata": {},
   "outputs": [],
   "source": [
    "class Node:\n",
    "    def __init__(self, data=None, edges=None):\n",
    "        self.data  = data\n",
    "        self.edges = [edges] if edges else []\n",
    "    def add_edge(self, edge = None):\n",
    "        self.edges.append(edge if edge else [])\n",
    "    def delete_edge(self, data):\n",
    "        for i in range(self.edges):\n",
    "            if self.edges[i].data == data:\n",
    "                self.edges.pop(i)\n",
    "    def __repr__(self):\n",
    "        return str(self)\n",
    "    def __str__(self):\n",
    "        return f\"data: {self.data}, edges: {[edge.data for edge in self.edges]}\""
   ]
  },
  {
   "cell_type": "code",
   "execution_count": 23,
   "id": "104dfab9-f533-4c79-82f8-bfdff1dc6740",
   "metadata": {
    "editable": true,
    "slideshow": {
     "slide_type": ""
    },
    "tags": []
   },
   "outputs": [
    {
     "data": {
      "text/plain": [
       "data: a, edges: ['b']\n",
       "data: b, edges: ['a']"
      ]
     },
     "execution_count": 23,
     "metadata": {},
     "output_type": "execute_result"
    }
   ],
   "source": [
    "class Graph: #undirected\n",
    "    def __init__(self):\n",
    "        self.nodes = []\n",
    "    def add(self, data, edges=None):\n",
    "        node = Node(data, edges)\n",
    "        self.nodes.append(node)\n",
    "        if edges:\n",
    "            for n in self.nodes:\n",
    "                if n != node:\n",
    "                    n.add_edge(node)\n",
    "        return node\n",
    "    def delete(self, data):\n",
    "        for i in range(self.nodes):\n",
    "            if self.nodes[i].data == data:\n",
    "                deleted = self.nodes.pop(i)\n",
    "                break\n",
    "                \n",
    "        for i in range(self.nodes):\n",
    "            self.nodes[i].delete_edge(data)\n",
    "        return deleted\n",
    "    def add_edge(self, s, d):\n",
    "        for node in nodes:\n",
    "            if node == s:\n",
    "                s.add_edge(d)\n",
    "            if node == d:\n",
    "                d.add_edge(s)\n",
    "    def __repr__(self):\n",
    "        return str(self)\n",
    "    def __str__(self):\n",
    "        out = [f\"{node}\\n\" for node in self.nodes]\n",
    "        return \"\".join(out)\n",
    "\n",
    "g = Graph()\n",
    "a = g.add('a')\n",
    "b = g.add('b', a)\n",
    "g"
   ]
  },
  {
   "cell_type": "code",
   "execution_count": null,
   "id": "c1e9ba81-752a-4289-8943-4bc72a41b0fa",
   "metadata": {},
   "outputs": [],
   "source": [
    "class BinarySearchTree:\n",
    "    def __init__():\n",
    "        self.root = None\n",
    "    def add():\n",
    "        pass\n",
    "    def delete(data):\n",
    "        pass\n",
    "    def find(data):\n",
    "        pass\n",
    "    def in_order_traversal():\n",
    "        pass\n",
    "    def pre_order_traversal():\n",
    "        pass\n",
    "    def post_order_traversal():\n",
    "        pass"
   ]
  }
 ],
 "metadata": {
  "kernelspec": {
   "display_name": "Python 3 (ipykernel)",
   "language": "python",
   "name": "python3"
  },
  "language_info": {
   "codemirror_mode": {
    "name": "ipython",
    "version": 3
   },
   "file_extension": ".py",
   "mimetype": "text/x-python",
   "name": "python",
   "nbconvert_exporter": "python",
   "pygments_lexer": "ipython3",
   "version": "3.12.2"
  }
 },
 "nbformat": 4,
 "nbformat_minor": 5
}
