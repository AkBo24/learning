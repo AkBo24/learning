{
 "cells": [
  {
   "cell_type": "markdown",
   "id": "21a84e63-81cd-47e6-adc9-46e48abdad1d",
   "metadata": {},
   "source": [
    "# Data Structure"
   ]
  },
  {
   "cell_type": "code",
   "execution_count": 18,
   "id": "445a8483-bb3e-41b8-8d4b-f56a00a79843",
   "metadata": {},
   "outputs": [],
   "source": [
    "class SinglyLinkedList:\n",
    "  # O(n)\n",
    "  def __init__(self, data=()):\n",
    "    self.head = None\n",
    "    for d in data:\n",
    "      self.push(d)\n",
    "      pass\n",
    "\n",
    "  # O(n)\n",
    "  def push(self, data):\n",
    "    if self.head is None:\n",
    "      self.head = Node(data)\n",
    "      return\n",
    "\n",
    "    curr = self.head\n",
    "    while curr.next is not None:\n",
    "      curr = curr.next\n",
    "    curr.next = Node(data)\n",
    "\n",
    "\n",
    "  def extend(self, other):\n",
    "    if other == None:\n",
    "      return\n",
    "    \n",
    "    curr = other.get(0)\n",
    "    while curr != None:\n",
    "      self.push(curr.data)\n",
    "      curr = curr.next\n",
    "  \n",
    "  def extend_by_ref(self, other):\n",
    "      if other == None:\n",
    "          return\n",
    "      if self.head == None:\n",
    "          return curr\n",
    "\n",
    "      this = self.head\n",
    "      while this.next != None:\n",
    "          this = this.next\n",
    "      oh = other.get(0)\n",
    "      this.next = oh\n",
    "    \n",
    "\n",
    "  # O(n)\n",
    "  def pop(self):\n",
    "    if self.head is None:\n",
    "      return None\n",
    "    if self.head.next is None:\n",
    "      out = self.head\n",
    "      self.head = None\n",
    "      return out\n",
    "    previous = None\n",
    "    curr = self.head\n",
    "    while curr.next is not None:\n",
    "      previous = curr\n",
    "      curr = curr.next\n",
    "    out = previous.next\n",
    "    previous.next = None\n",
    "    return out\n",
    "\n",
    "  # 3. Delete Middle Node\n",
    "  def remove(self, value):\n",
    "    if self.head is None:\n",
    "      return None\n",
    "    if self.head.data == value:\n",
    "        self.head = self.head.next\n",
    "        return\n",
    "    previous = None\n",
    "    curr = self.head\n",
    "    while curr != None:\n",
    "      if curr.data == value:\n",
    "        # print('here', previous.data, curr.data, curr.next.data)\n",
    "        previous.next = curr.next\n",
    "        # print(previous.data, previous.next.data)\n",
    "        # print(self)\n",
    "        return self\n",
    "      previous = curr\n",
    "      curr = curr.next\n",
    "      # print(f\"previous: {previous.data}, curr: {curr.data}\")\n",
    "\n",
    "  def get(self, i):\n",
    "    if i < 0 or i > len(self):\n",
    "      raise Exception(f'Index {i} out of bounds')\n",
    "    if self.head is None:\n",
    "      return None\n",
    "    curr = self.head\n",
    "    j = 0\n",
    "    while curr is not None:\n",
    "      if j == i:\n",
    "        return curr\n",
    "      curr = curr.next\n",
    "      j += 1\n",
    "    return None\n",
    "\n",
    "  def __len__(self):\n",
    "    if self.head is None:\n",
    "      return 0\n",
    "    size = 0\n",
    "    curr = self.head\n",
    "    while curr is not None:\n",
    "      size += 1\n",
    "      curr = curr.next\n",
    "    return size\n",
    "\n",
    "  def __repr__(self) -> str:\n",
    "    return str(self)\n",
    "\n",
    "  def __str__(self):\n",
    "    if self.head is None:\n",
    "      return \" Empty List\"\n",
    "\n",
    "    curr = self.head\n",
    "    out = \"\"\n",
    "\n",
    "    while curr is not None:\n",
    "      out += f\" {curr.data}\"\n",
    "      curr = curr.next\n",
    "    return out\n",
    "\n",
    "\n",
    "class Node:\n",
    "\n",
    "  def __init__(self, data=None):\n",
    "    self.data = data\n",
    "    self.next = None"
   ]
  },
  {
   "cell_type": "markdown",
   "id": "e29ca22a-e7e8-4c44-a81f-61de8c18e5ff",
   "metadata": {},
   "source": [
    "# Coding Questions\n",
    "\n",
    "### 1. Remove Duplicates"
   ]
  },
  {
   "cell_type": "code",
   "execution_count": null,
   "id": "c7013ae6-6930-4dc7-ae18-b1d4a81f10fe",
   "metadata": {},
   "outputs": [],
   "source": [
    "def includes(slist: SinglyLinkedList, val: Node):\n",
    "  curr = slist.head\n",
    "  while curr != None:\n",
    "    if curr.data == val.data:\n",
    "      return True\n",
    "    curr = curr.next\n",
    "  return False\n",
    "\n",
    "\n",
    "def remove_dups(slist: SinglyLinkedList):\n",
    "  #  1->3->4->3->5->1->9\n",
    "  out = SinglyLinkedList()\n",
    "  curr = slist.head\n",
    "\n",
    "  while curr != None:\n",
    "    if not includes(out, curr):\n",
    "      out.push(curr.data)\n",
    "    curr = curr.next\n",
    "  return out\n",
    "out = remove_dups(slist=SinglyLinkedList((9, 1, 4, 3, 4, 1, 9)))\n",
    "print(out)"
   ]
  },
  {
   "cell_type": "code",
   "execution_count": null,
   "id": "f37db8dd-66d4-409b-b1ea-d9d43d3e895c",
   "metadata": {},
   "outputs": [],
   "source": [
    "def remove_dups_no_buffer(slist: SinglyLinkedList):\n",
    "    values = set()\n",
    "    curr = slist.get(0)\n",
    "    while curr := curr.next:\n",
    "        if curr.data in values:\n",
    "            slist.remove(curr.data)\n",
    "        else:\n",
    "            values.add(curr.data)\n",
    "    return slist\n",
    "\n",
    "out = remove_dups_no_buffer(SinglyLinkedList((10, 4, 9, 3, 4, 1, 9)))\n",
    "print(out)"
   ]
  },
  {
   "cell_type": "markdown",
   "id": "4dfe387a-e97e-431c-83ae-46ca0979c9ec",
   "metadata": {},
   "source": [
    "### 2. Return Kth to Last"
   ]
  },
  {
   "cell_type": "code",
   "execution_count": null,
   "id": "96c6a63a-cd01-42fd-ba98-c785e6db7ae5",
   "metadata": {
    "editable": true,
    "slideshow": {
     "slide_type": ""
    },
    "tags": []
   },
   "outputs": [],
   "source": [
    "def get_kth_to_last(head: Node, k: int):\n",
    "    if head == None:\n",
    "        return None\n",
    "        \n",
    "    values = [head]\n",
    "    curr = head\n",
    "    while curr := curr.next:\n",
    "        values.append(curr)\n",
    "    return values[len(values)-k-1] if len(values)-k-1 >= 0 else None\n",
    "\n",
    "def __get_kth_to_last_recursive(curr: Node, k, index: int, size: int):\n",
    "    ans = None\n",
    "    if curr != None:\n",
    "        ans, size = __get_kth_to_last_recursive(curr.next, k, index+1, size+1)\n",
    "    if curr and size-1-index == k:\n",
    "        return (curr.data, size)\n",
    "    return (ans if ans != None else None, size)\n",
    "def get_kth_to_last_recursive(head: Node, k: int):\n",
    "    return __get_kth_to_last_recursive(head, k, 0, 0)\n",
    "\n",
    "slist = SinglyLinkedList((10, 4, 9, 3, -100, 1, 9))\n",
    "out, _ = get_kth_to_last_recursive(slist.get(0), 1)\n",
    "print(out)"
   ]
  },
  {
   "cell_type": "code",
   "execution_count": null,
   "id": "2ecb052a-7137-4c3e-9dfc-79b6e19f99d8",
   "metadata": {},
   "outputs": [],
   "source": [
    "def get_kth_iterative_no_buf(head: Node, k: int) -> int:\n",
    "  #  1->3->4->3->5->1->9->None\n",
    "  if head == None:\n",
    "    return None\n",
    "  p1:Node = head\n",
    "  p2:Node = head\n",
    "\n",
    "  i = 0\n",
    "  while i < k and p1.next:\n",
    "    p1 = p1.next\n",
    "    i += 1\n",
    "  \n",
    "  if not p1:\n",
    "    return None\n",
    "\n",
    "  while p1.next != None:\n",
    "    p1 = p1.next\n",
    "    p2 = p2.next\n",
    "\n",
    "  return p2.data\n",
    "\n",
    "slist = SinglyLinkedList((10, 4, 9, 3, -100, 1, 9))\n",
    "out = get_kth_iterative_no_buf(slist.get(0), 3)\n",
    "print(out)"
   ]
  },
  {
   "cell_type": "markdown",
   "id": "a3b69a02-ccc9-416b-8963-87832d9e0c5b",
   "metadata": {},
   "source": [
    "### Partition"
   ]
  },
  {
   "cell_type": "code",
   "execution_count": null,
   "id": "e10a91e9-1007-4b03-a64c-05a537a9b45a",
   "metadata": {},
   "outputs": [],
   "source": [
    "def partition(head: Node, x: int):\n",
    "  lower: SinglyLinkedList = SinglyLinkedList()\n",
    "  higher: SinglyLinkedList = SinglyLinkedList()\n",
    "\n",
    "  curr: Node = head\n",
    "  while curr != None:\n",
    "    if curr.data < x:\n",
    "      lower.push(curr.data)\n",
    "    else:\n",
    "      higher.push(curr.data)\n",
    "    curr = curr.next\n",
    "\n",
    "  lower.extend(higher)\n",
    "  return lower"
   ]
  },
  {
   "cell_type": "markdown",
   "id": "69c01c5d-2ac9-48ba-98fb-25d60cd7dcf7",
   "metadata": {},
   "source": [
    "### Sum Lists"
   ]
  },
  {
   "cell_type": "code",
   "execution_count": null,
   "id": "eafe3405-6950-40b7-9b93-3cef16fb16c1",
   "metadata": {},
   "outputs": [],
   "source": [
    "def sum_list(num1: SinglyLinkedList, num2:SinglyLinkedList):\n",
    "    d1, d2 = num1.get(0), num2.get(0)\n",
    "    if d1 == None:\n",
    "        return d2\n",
    "    if d2 == None:\n",
    "        return d1\n",
    "\n",
    "    out = SinglyLinkedList()\n",
    "    overflow = 0\n",
    "    while d1 != None or d2 != None:\n",
    "        v1 = d1.data if d1 else 0\n",
    "        v2 = d2.data if d2 else 0\n",
    "        print(v1, v2)\n",
    "        s  = v1 + v2 + overflow\n",
    "        if s < 10:\n",
    "            overflow = 0\n",
    "            out.push(s)\n",
    "        else:\n",
    "            overflow = 1\n",
    "            out.push(s-10)\n",
    "        if d1 != None:\n",
    "            d1 = d1.next\n",
    "        if d2 != None:\n",
    "            d2 = d2.next\n",
    "    return out\n",
    "\n",
    "# sum_list(SinglyLinkedList((7,1,6)), SinglyLinkedList((5,9,2)))\n",
    "# sum_list(SinglyLinkedList((7,1,6)), SinglyLinkedList((5,9)))\n",
    "sum_list(SinglyLinkedList((7,1)), SinglyLinkedList((5,9,2)))"
   ]
  },
  {
   "cell_type": "code",
   "execution_count": null,
   "id": "064743fc-5c27-490b-8917-429a9adf5ada",
   "metadata": {},
   "outputs": [],
   "source": [
    "# TODO: pad either n1 or n2 with leading 0's based on which is smaller\n",
    "def sum_list_forward(n1: SinglyLinkedList, n2:SinglyLinkedList, out):\n",
    "    if n1 == None and n2 == None:\n",
    "        return 0\n",
    "    of = sum_list_forward(n1.next if n1 else None, \n",
    "                              n2.next if n2 else None, \n",
    "                              out)\n",
    "    v1 = n1.data if n1 else 0\n",
    "    v2 = n2.data if n2 else 0\n",
    "    s  = v1 + v2 + of\n",
    "    if s < 10:\n",
    "        out.push(s)\n",
    "        return 0\n",
    "    else:\n",
    "        out.push(s-10)\n",
    "        return 1\n",
    "\n",
    "out = SinglyLinkedList()\n",
    "sum_list_forward(SinglyLinkedList((6,1,7)).get(0),\n",
    "                 SinglyLinkedList((0,2,9)).get(0),\n",
    "                 out)\n",
    "out"
   ]
  },
  {
   "cell_type": "markdown",
   "id": "ff83d751-be05-44c0-b2c6-5066b397572b",
   "metadata": {},
   "source": [
    "### Palindrome"
   ]
  },
  {
   "cell_type": "code",
   "execution_count": 16,
   "id": "9aef7e7f-7855-4b44-9011-b44964b49f13",
   "metadata": {},
   "outputs": [
    {
     "data": {
      "text/plain": [
       "False"
      ]
     },
     "execution_count": 16,
     "metadata": {},
     "output_type": "execute_result"
    }
   ],
   "source": [
    "def palindrome(sl: SinglyLinkedList):\n",
    "    if sl == None:\n",
    "        return True\n",
    "    \n",
    "    while sl.get(0) != None:\n",
    "        curr = sl.get(0)\n",
    "        last = sl.pop()\n",
    "        if curr.data != last.data:\n",
    "            return False\n",
    "        if sl == None:\n",
    "            break\n",
    "        sl.remove(curr.data)\n",
    "    return True\n",
    "palindrome(SinglyLinkedList((\"d\", \"b\", \"a\", \"d\")))"
   ]
  },
  {
   "cell_type": "markdown",
   "id": "3584b74e-6985-49da-a89b-277302e227d9",
   "metadata": {},
   "source": [
    "### Intersection"
   ]
  },
  {
   "cell_type": "code",
   "execution_count": 28,
   "id": "cd838324-367d-43fa-9850-27f93825f0c1",
   "metadata": {},
   "outputs": [
    {
     "data": {
      "text/plain": [
       "2"
      ]
     },
     "execution_count": 28,
     "metadata": {},
     "output_type": "execute_result"
    }
   ],
   "source": [
    "def intersection(l1: SinglyLinkedList, l2: SinglyLinkedList):\n",
    "    c1, c2 = l1.get(0), l2.get(0)\n",
    "\n",
    "    while c1 != None and c2 != None:\n",
    "        # print(c1, c2, c1.data, c2.data, c1 == c2)\n",
    "        if c1 == c2:\n",
    "            return c1\n",
    "        c1 = c1.next\n",
    "        c2 = c2.next\n",
    "    print('none')\n",
    "    return None\n",
    "\n",
    "intersect = SinglyLinkedList((2,4))\n",
    "a = intersect\n",
    "l1 = SinglyLinkedList((1,3,1))\n",
    "l1.extend_by_ref(intersect)\n",
    "l2 = SinglyLinkedList((6,9,8))\n",
    "l2.extend_by_ref(intersect)\n",
    "intersection(l1, l2).data"
   ]
  }
 ],
 "metadata": {
  "kernelspec": {
   "display_name": "Python 3 (ipykernel)",
   "language": "python",
   "name": "python3"
  },
  "language_info": {
   "codemirror_mode": {
    "name": "ipython",
    "version": 3
   },
   "file_extension": ".py",
   "mimetype": "text/x-python",
   "name": "python",
   "nbconvert_exporter": "python",
   "pygments_lexer": "ipython3",
   "version": "3.12.2"
  }
 },
 "nbformat": 4,
 "nbformat_minor": 5
}
