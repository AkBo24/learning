{
 "cells": [
  {
   "cell_type": "code",
   "execution_count": 2,
   "id": "3dce7828-06c5-424c-917c-0e54fb246d5a",
   "metadata": {},
   "outputs": [],
   "source": [
    "class Node:\n",
    "    def __init__(self, data=None, next_node=None):\n",
    "        self.data = data\n",
    "        self.next = next_node\n",
    "    def __repr__(self) -> str:\n",
    "        return str(self)\n",
    "\n",
    "    def __str__(self):\n",
    "        return f\"data: {self.data}\" #, next: [{self.next}]"
   ]
  },
  {
   "cell_type": "code",
   "execution_count": 24,
   "id": "85b22bb7-af1f-419e-bcf7-4e519d0f0ac5",
   "metadata": {},
   "outputs": [],
   "source": [
    "class Stack:\n",
    "    def __init__(self, top:Node=None):\n",
    "        self.top = top\n",
    "        self.count = 0 if top is None else 1\n",
    "\n",
    "    def pop(self):\n",
    "        if self.isEmpty():\n",
    "            return None\n",
    "        item = self.top\n",
    "        self.top = self.top.next\n",
    "        self.count -= 1\n",
    "        return item\n",
    "\n",
    "    def push(self, data):\n",
    "        node = Node(data)\n",
    "        node.next = self.top\n",
    "        self.top = node\n",
    "        self.count += 1\n",
    "\n",
    "    def peek(self):\n",
    "        return self.top\n",
    "\n",
    "    def isEmpty(self):\n",
    "        return self.top is None\n",
    "\n",
    "    def __len__(self):\n",
    "        return self.count\n",
    "    def __str__(self):\n",
    "        if self.isEmpty():\n",
    "            return \"empty stack\"\n",
    "        curr = self.top\n",
    "        out  = str(curr)\n",
    "        while curr := curr.next:\n",
    "            out += f\", {str(curr)}\"\n",
    "        return out\n",
    "    def __repr__(self):\n",
    "        return str(self)"
   ]
  },
  {
   "cell_type": "code",
   "execution_count": 26,
   "id": "43b78d0c-a3ec-4bc8-aeb9-45a0d13bdf07",
   "metadata": {},
   "outputs": [
    {
     "data": {
      "text/plain": [
       "empty stack"
      ]
     },
     "execution_count": 26,
     "metadata": {},
     "output_type": "execute_result"
    }
   ],
   "source": [
    "s = Stack()\n",
    "\n",
    "# for i in range(10):\n",
    "#     s.push(i)\n",
    "s   "
   ]
  },
  {
   "cell_type": "code",
   "execution_count": 103,
   "id": "c050dd4f-21b8-4dbe-95d3-1b0fca619d8b",
   "metadata": {},
   "outputs": [],
   "source": [
    "class Queue:\n",
    "    def __init__(self, head:Node = None, tail:Node = None):\n",
    "        self.head = head\n",
    "        self.tail = tail\n",
    "    \n",
    "    def add(self, data):\n",
    "        node = Node(data)\n",
    "        # if self.tail is not None:\n",
    "        #    self.tail.next = node\n",
    "        # self.tail = node\n",
    "        # if self.head is None:\n",
    "        #     self.head = self.tail\n",
    "        if self.isEmpty():\n",
    "            self.head = node\n",
    "            self.tail = self.head\n",
    "            return\n",
    "        self.tail.next = node\n",
    "        self.tail = node\n",
    "    \n",
    "    def remove(self):\n",
    "        if self.head is None:\n",
    "            return None\n",
    "            \n",
    "        item = self.head\n",
    "        self.head = self.head.next\n",
    "        if self.head is None:\n",
    "            self.tail = None\n",
    "        return item\n",
    "    \n",
    "    def peek(self):\n",
    "        return self.head\n",
    "    \n",
    "    def isEmpty(self):\n",
    "        return self.head is None"
   ]
  },
  {
   "cell_type": "code",
   "execution_count": 105,
   "id": "5ac7cca4-0fb8-4ee3-8ce4-e29ffc0d501f",
   "metadata": {},
   "outputs": [
    {
     "name": "stdout",
     "output_type": "stream",
     "text": [
      "data: 0\n",
      "data: 1\n",
      "data: 2\n",
      "data: 3\n",
      "data: 4\n",
      "data: 5\n",
      "data: 6\n",
      "data: 7\n",
      "data: 8\n",
      "data: 9\n"
     ]
    }
   ],
   "source": [
    "q = Queue()\n",
    "\n",
    "for i in range(10):\n",
    "    q.add(i)\n",
    "\n",
    "for i in range(10):\n",
    "    print(q.remove())"
   ]
  },
  {
   "cell_type": "markdown",
   "id": "e230c14b-c4cf-4c09-bbb6-ff2d5b363eb8",
   "metadata": {},
   "source": [
    "### 2.Min Stack"
   ]
  },
  {
   "cell_type": "code",
   "execution_count": 33,
   "id": "f38c3a69-e7b2-48e1-a490-95976ecfd2ce",
   "metadata": {},
   "outputs": [
    {
     "data": {
      "text/plain": [
       "-1000"
      ]
     },
     "execution_count": 33,
     "metadata": {},
     "output_type": "execute_result"
    }
   ],
   "source": [
    "class Min_Stack_Node:\n",
    "    def __init__(self, data = None, \n",
    "                 next_n: Min_Stack_Node = None, \n",
    "                 min_n = None):\n",
    "        self.data = data\n",
    "        self.next = next_n\n",
    "        self.min  = min_n\n",
    "    def __repr__(self) -> str:\n",
    "        return str(self)\n",
    "\n",
    "    def __str__(self):\n",
    "        return f\"data: {self.data}, min: {self.min}\" #, next: [{self.next}]\n",
    "\n",
    "class Min_Stack:\n",
    "    def __init__(self, top: Min_Stack_Node = None):\n",
    "        self.top = top\n",
    "    \n",
    "    def push(self, data):\n",
    "        node = Min_Stack_Node(data)\n",
    "\n",
    "        if self.top is None:\n",
    "            node.min = data\n",
    "        else:\n",
    "            node.min = data if data < self.top.min else self.top.min\n",
    "        \n",
    "        node.next = self.top\n",
    "        self.top = node\n",
    "    \n",
    "    def pop(self):\n",
    "        if self.top is None:\n",
    "            return None\n",
    "        item = self.top\n",
    "        self.top = self.top.next\n",
    "        return item\n",
    "    \n",
    "    def min(self):\n",
    "        return self.top.min if self.top else None\n",
    "\n",
    "ms = Min_Stack()\n",
    "ms.push(-1000)\n",
    "ms.push(3)\n",
    "ms.push(1)\n",
    "ms.push(-1)\n",
    "ms.push(5)\n",
    "\n",
    "ms.pop()\n",
    "ms.pop()\n",
    "ms.min()"
   ]
  },
  {
   "cell_type": "markdown",
   "id": "f8f30dcf-5196-4d2e-abfe-064ff2725c3a",
   "metadata": {},
   "source": [
    "### Stack of Plates"
   ]
  },
  {
   "cell_type": "code",
   "execution_count": 63,
   "id": "3e74d82d-9927-446e-8f58-3bb8ad242634",
   "metadata": {},
   "outputs": [],
   "source": [
    "class SetOfStacks:\n",
    "    def __init__(self, data = None, threshold: int = 3):\n",
    "        self.threshold = threshold\n",
    "        self.stacks = [] # i.e.: [[0 -> 5 -> -4],[12 -> 2 -> -10]]\n",
    "\n",
    "    def peek(self):\n",
    "        return self.stacks[-1].peek() if len(self.stacks) > 0 else None\n",
    "\n",
    "    def len_of_stack(self, top:Node):\n",
    "        if top is None:\n",
    "            return 0\n",
    "        size = 1\n",
    "        curr = top\n",
    "        while curr := curr.next:\n",
    "            size += 1\n",
    "        return size\n",
    "\n",
    "    def pop(self):\n",
    "        if len(self.stacks) == 0:\n",
    "            return None\n",
    "\n",
    "        last_stack: Stack = self.stacks[-1]\n",
    "        top = last_stack.pop()\n",
    "\n",
    "        if last_stack.isEmpty():\n",
    "            self.stacks.pop()\n",
    "        return top\n",
    "\n",
    "    def popAt(self, i):\n",
    "        if len(self.stacks) == 0:\n",
    "            return None\n",
    "        if i > len(self.stacks):\n",
    "            print(f\"stack {i} out of bounds\")\n",
    "            return None\n",
    "        out = self.stacks[i].pop()\n",
    "        if self.stacks[i].isEmpty():\n",
    "            self.stacks.pop(i)\n",
    "        return out\n",
    "\n",
    "    def push(self, data):\n",
    "        node: Node = Node(data)\n",
    "\n",
    "        if len(self.stacks) == 0:\n",
    "            self.stacks.append(Stack(node))\n",
    "            return\n",
    "        \n",
    "        last_stack: Stack = self.stacks[-1]\n",
    "        if len(last_stack) <= self.threshold:\n",
    "            last_stack.push(data)\n",
    "        else:\n",
    "            self.stacks.append(Stack(node))\n",
    "            \n",
    "    def get_stack(self, i):\n",
    "        if i > len(self.stacks):\n",
    "            print(f\"stack {i} out of bounds\")\n",
    "            return None\n",
    "        return self.stacks[i] if len(self.stacks) > 0 else None"
   ]
  },
  {
   "cell_type": "code",
   "execution_count": 64,
   "id": "f0315eb9-8a06-42d7-abae-beaa0fbca4ef",
   "metadata": {},
   "outputs": [
    {
     "data": {
      "text/plain": [
       "data: 500"
      ]
     },
     "execution_count": 64,
     "metadata": {},
     "output_type": "execute_result"
    }
   ],
   "source": [
    "plates = SetOfStacks()\n",
    "plates.push(100)\n",
    "plates.push(200)\n",
    "plates.push(300)\n",
    "plates.push(400)\n",
    "plates.push(500)\n",
    "t = plates.popAt(0)\n",
    "t = plates.popAt(0)\n",
    "t = plates.popAt(0)\n",
    "t = plates.popAt(0)\n",
    "plates.get_stack(0)"
   ]
  }
 ],
 "metadata": {
  "kernelspec": {
   "display_name": "Python 3 (ipykernel)",
   "language": "python",
   "name": "python3"
  },
  "language_info": {
   "codemirror_mode": {
    "name": "ipython",
    "version": 3
   },
   "file_extension": ".py",
   "mimetype": "text/x-python",
   "name": "python",
   "nbconvert_exporter": "python",
   "pygments_lexer": "ipython3",
   "version": "3.12.2"
  }
 },
 "nbformat": 4,
 "nbformat_minor": 5
}
