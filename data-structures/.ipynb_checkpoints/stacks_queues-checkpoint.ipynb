{
 "cells": [
  {
   "cell_type": "code",
   "execution_count": 93,
   "id": "3dce7828-06c5-424c-917c-0e54fb246d5a",
   "metadata": {},
   "outputs": [],
   "source": [
    "class Node:\n",
    "    def __init__(self, data=None, next_node=None):\n",
    "        self.data = data\n",
    "        self.next = next_node\n",
    "    def __repr__(self) -> str:\n",
    "        return str(self)\n",
    "\n",
    "    def __str__(self):\n",
    "        return f\"data: {self.data}\" #, next: [{self.next}]"
   ]
  },
  {
   "cell_type": "code",
   "execution_count": 15,
   "id": "85b22bb7-af1f-419e-bcf7-4e519d0f0ac5",
   "metadata": {},
   "outputs": [],
   "source": [
    "class Stack:\n",
    "    def __init__(self, top:Node=None):\n",
    "        self.top = top\n",
    "    \n",
    "    def pop(self):\n",
    "        if self.isEmpty():\n",
    "            return None;\n",
    "        item = self.top\n",
    "        self.top = self.top.next\n",
    "        return item\n",
    "    \n",
    "    def push(self, data):\n",
    "        node = Node(data)\n",
    "        node.next = self.top\n",
    "        self.top = node\n",
    "    \n",
    "    def peek(self):\n",
    "        return self.top\n",
    "    \n",
    "    def isEmpty(self):\n",
    "        return self.top is None"
   ]
  },
  {
   "cell_type": "code",
   "execution_count": 23,
   "id": "43b78d0c-a3ec-4bc8-aeb9-45a0d13bdf07",
   "metadata": {},
   "outputs": [
    {
     "name": "stdout",
     "output_type": "stream",
     "text": [
      "9\n",
      "8\n",
      "7\n",
      "6\n",
      "5\n",
      "4\n",
      "3\n",
      "2\n",
      "1\n",
      "0\n"
     ]
    }
   ],
   "source": [
    "s = Stack()\n",
    "\n",
    "for i in range(10):\n",
    "    s.push(i)\n",
    "\n",
    "for i in range(10):\n",
    "    print(s.pop().data)\n",
    "    "
   ]
  },
  {
   "cell_type": "code",
   "execution_count": 103,
   "id": "c050dd4f-21b8-4dbe-95d3-1b0fca619d8b",
   "metadata": {},
   "outputs": [],
   "source": [
    "class Queue:\n",
    "    def __init__(self, head:Node = None, tail:Node = None):\n",
    "        self.head = head\n",
    "        self.tail = tail\n",
    "    \n",
    "    def add(self, data):\n",
    "        node = Node(data)\n",
    "        # if self.tail is not None:\n",
    "        #    self.tail.next = node\n",
    "        # self.tail = node\n",
    "        # if self.head is None:\n",
    "        #     self.head = self.tail\n",
    "        if self.isEmpty():\n",
    "            self.head = node\n",
    "            self.tail = self.head\n",
    "            return\n",
    "        self.tail.next = node\n",
    "        self.tail = node\n",
    "    \n",
    "    def remove(self):\n",
    "        if self.head is None:\n",
    "            return None\n",
    "            \n",
    "        item = self.head\n",
    "        self.head = self.head.next\n",
    "        if self.head is None:\n",
    "            self.tail = None\n",
    "        return item\n",
    "    \n",
    "    def peek(self):\n",
    "        return self.head\n",
    "    \n",
    "    def isEmpty(self):\n",
    "        return self.head is None"
   ]
  },
  {
   "cell_type": "code",
   "execution_count": 105,
   "id": "5ac7cca4-0fb8-4ee3-8ce4-e29ffc0d501f",
   "metadata": {},
   "outputs": [
    {
     "name": "stdout",
     "output_type": "stream",
     "text": [
      "data: 0\n",
      "data: 1\n",
      "data: 2\n",
      "data: 3\n",
      "data: 4\n",
      "data: 5\n",
      "data: 6\n",
      "data: 7\n",
      "data: 8\n",
      "data: 9\n"
     ]
    }
   ],
   "source": [
    "q = Queue()\n",
    "\n",
    "for i in range(10):\n",
    "    q.add(i)\n",
    "\n",
    "for i in range(10):\n",
    "    print(q.remove())"
   ]
  }
 ],
 "metadata": {
  "kernelspec": {
   "display_name": "Python 3 (ipykernel)",
   "language": "python",
   "name": "python3"
  },
  "language_info": {
   "codemirror_mode": {
    "name": "ipython",
    "version": 3
   },
   "file_extension": ".py",
   "mimetype": "text/x-python",
   "name": "python",
   "nbconvert_exporter": "python",
   "pygments_lexer": "ipython3",
   "version": "3.12.2"
  }
 },
 "nbformat": 4,
 "nbformat_minor": 5
}
