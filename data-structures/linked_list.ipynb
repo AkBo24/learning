{
 "cells": [
  {
   "cell_type": "markdown",
   "id": "21a84e63-81cd-47e6-adc9-46e48abdad1d",
   "metadata": {},
   "source": [
    "# Data Structure"
   ]
  },
  {
   "cell_type": "code",
   "execution_count": 3,
   "id": "445a8483-bb3e-41b8-8d4b-f56a00a79843",
   "metadata": {},
   "outputs": [],
   "source": [
    "class SinglyLinkedList:\n",
    "  # O(n)\n",
    "  def __init__(self, data=()):\n",
    "    self.head = None\n",
    "    for d in data:\n",
    "      self.push(d)\n",
    "      pass\n",
    "\n",
    "  # O(n)\n",
    "  def push(self, data):\n",
    "    if self.head is None:\n",
    "      self.head = Node(data)\n",
    "      return\n",
    "\n",
    "    curr = self.head\n",
    "    while curr.next is not None:\n",
    "      curr = curr.next\n",
    "    curr.next = Node(data)\n",
    "\n",
    "\n",
    "  def extend(self, other):\n",
    "    if other == None:\n",
    "      return\n",
    "    \n",
    "    curr = other.get(0)\n",
    "    while curr != None:\n",
    "      self.push(curr.data)\n",
    "\n",
    "  # O(n)\n",
    "  def pop(self):\n",
    "    if self.head is None:\n",
    "      raise Exception('Cannot pop from empty list')\n",
    "    if self.head.next is None:\n",
    "      self.head = None\n",
    "      return\n",
    "    previous = None\n",
    "    curr = self.head\n",
    "    while curr.next is not None:\n",
    "      previous = curr\n",
    "      curr = curr.next\n",
    "    previous.next = None\n",
    "\n",
    "  # 3. Delete Middle Node\n",
    "  def remove(self, value):\n",
    "    if self.head is None:\n",
    "      raise Exception('Cannot remove from empty list')\n",
    "    # if self.head.data == value:\n",
    "    #     self.head = self.head.next\n",
    "    #     return\n",
    "    previous = None\n",
    "    curr = self.head\n",
    "    while curr != None:\n",
    "      if curr.data == value:\n",
    "        # print('here', previous.data, curr.data, curr.next.data)\n",
    "        previous.next = curr.next\n",
    "        # print(previous.data, previous.next.data)\n",
    "        # print(self)\n",
    "        return self\n",
    "      previous = curr\n",
    "      curr = curr.next\n",
    "      # print(f\"previous: {previous.data}, curr: {curr.data}\")\n",
    "\n",
    "  def get(self, i):\n",
    "    if i < 0 or i > len(self):\n",
    "      raise Exception(f'Index {i} out of bounds')\n",
    "    if self.head is None:\n",
    "      return None\n",
    "    curr = self.head\n",
    "    j = 0\n",
    "    while curr is not None:\n",
    "      if j == i:\n",
    "        return curr\n",
    "      curr = curr.next\n",
    "      j += 1\n",
    "    return None\n",
    "\n",
    "  def __len__(self):\n",
    "    if self.head is None:\n",
    "      return 0\n",
    "    size = 0\n",
    "    curr = self.head\n",
    "    while curr is not None:\n",
    "      size += 1\n",
    "      curr = curr.next\n",
    "    return size\n",
    "\n",
    "  def __repr__(self) -> str:\n",
    "    return str(self)\n",
    "\n",
    "  def __str__(self):\n",
    "    if self.head is None:\n",
    "      return \" Empty List\"\n",
    "\n",
    "    curr = self.head\n",
    "    out = \"\"\n",
    "\n",
    "    while curr is not None:\n",
    "      out += f\" {curr.data}\"\n",
    "      curr = curr.next\n",
    "    return out\n",
    "\n",
    "\n",
    "class Node:\n",
    "\n",
    "  def __init__(self, data=None):\n",
    "    self.data = data\n",
    "    self.next = None"
   ]
  },
  {
   "cell_type": "markdown",
   "id": "e29ca22a-e7e8-4c44-a81f-61de8c18e5ff",
   "metadata": {},
   "source": [
    "# Coding Questions\n",
    "\n",
    "### 1. Remove Duplicates"
   ]
  },
  {
   "cell_type": "code",
   "execution_count": 6,
   "id": "c7013ae6-6930-4dc7-ae18-b1d4a81f10fe",
   "metadata": {},
   "outputs": [
    {
     "name": "stdout",
     "output_type": "stream",
     "text": [
      " 9 1 4 3\n"
     ]
    }
   ],
   "source": [
    "def includes(slist: SinglyLinkedList, val: Node):\n",
    "  curr = slist.head\n",
    "  while curr != None:\n",
    "    if curr.data == val.data:\n",
    "      return True\n",
    "    curr = curr.next\n",
    "  return False\n",
    "\n",
    "\n",
    "def remove_dups(slist: SinglyLinkedList):\n",
    "  #  1->3->4->3->5->1->9\n",
    "  out = SinglyLinkedList()\n",
    "  curr = slist.head\n",
    "\n",
    "  while curr != None:\n",
    "    if not includes(out, curr):\n",
    "      out.push(curr.data)\n",
    "    curr = curr.next\n",
    "  return out\n",
    "out = remove_dups(slist=SinglyLinkedList((9, 1, 4, 3, 4, 1, 9)))\n",
    "print(out)"
   ]
  },
  {
   "cell_type": "code",
   "execution_count": 75,
   "id": "f37db8dd-66d4-409b-b1ea-d9d43d3e895c",
   "metadata": {},
   "outputs": [
    {
     "name": "stdout",
     "output_type": "stream",
     "text": [
      " 10 3 4 1 9\n"
     ]
    }
   ],
   "source": [
    "def remove_dups_no_buffer(slist: SinglyLinkedList):\n",
    "    values = set()\n",
    "    curr = slist.get(0)\n",
    "    while curr := curr.next:\n",
    "        if curr.data in values:\n",
    "            slist.remove(curr.data)\n",
    "        else:\n",
    "            values.add(curr.data)\n",
    "    return slist\n",
    "\n",
    "out = remove_dups_no_buffer(SinglyLinkedList((10, 4, 9, 3, 4, 1, 9)))\n",
    "print(out)"
   ]
  },
  {
   "cell_type": "markdown",
   "id": "4dfe387a-e97e-431c-83ae-46ca0979c9ec",
   "metadata": {},
   "source": [
    "### 2. Return Kth to Last"
   ]
  },
  {
   "cell_type": "code",
   "execution_count": 43,
   "id": "96c6a63a-cd01-42fd-ba98-c785e6db7ae5",
   "metadata": {
    "editable": true,
    "slideshow": {
     "slide_type": ""
    },
    "tags": []
   },
   "outputs": [
    {
     "name": "stdout",
     "output_type": "stream",
     "text": [
      "1\n"
     ]
    }
   ],
   "source": [
    "def get_kth_to_last(head: Node, k: int):\n",
    "    if head == None:\n",
    "        return None\n",
    "        \n",
    "    values = [head]\n",
    "    curr = head\n",
    "    while curr := curr.next:\n",
    "        values.append(curr)\n",
    "    return values[len(values)-k-1] if len(values)-k-1 >= 0 else None\n",
    "\n",
    "def __get_kth_to_last_recursive(curr: Node, k, index: int, size: int):\n",
    "    ans = None\n",
    "    if curr != None:\n",
    "        ans, size = __get_kth_to_last_recursive(curr.next, k, index+1, size+1)\n",
    "    if curr and size-1-index == k:\n",
    "        return (curr.data, size)\n",
    "    return (ans if ans != None else None, size)\n",
    "def get_kth_to_last_recursive(head: Node, k: int):\n",
    "    return __get_kth_to_last_recursive(head, k, 0, 0)\n",
    "\n",
    "slist = SinglyLinkedList((10, 4, 9, 3, -100, 1, 9))\n",
    "out, _ = get_kth_to_last_recursive(slist.get(0), 1)\n",
    "print(out)"
   ]
  },
  {
   "cell_type": "code",
   "execution_count": 4,
   "id": "2ecb052a-7137-4c3e-9dfc-79b6e19f99d8",
   "metadata": {},
   "outputs": [
    {
     "name": "stdout",
     "output_type": "stream",
     "text": [
      "3\n"
     ]
    }
   ],
   "source": [
    "def get_kth_iterative_no_buf(head: Node, k: int) -> int:\n",
    "  #  1->3->4->3->5->1->9->None\n",
    "  if head == None:\n",
    "    return None\n",
    "  p1:Node = head\n",
    "  p2:Node = head\n",
    "\n",
    "  i = 0\n",
    "  while i < k and p1.next:\n",
    "    p1 = p1.next\n",
    "    i += 1\n",
    "  \n",
    "  if not p1:\n",
    "    return None\n",
    "\n",
    "  while p1.next != None:\n",
    "    p1 = p1.next\n",
    "    p2 = p2.next\n",
    "\n",
    "  return p2.data\n",
    "\n",
    "slist = SinglyLinkedList((10, 4, 9, 3, -100, 1, 9))\n",
    "out = get_kth_iterative_no_buf(slist.get(0), 3)\n",
    "print(out)"
   ]
  },
  {
   "cell_type": "markdown",
   "id": "a3b69a02-ccc9-416b-8963-87832d9e0c5b",
   "metadata": {},
   "source": [
    "### Partition"
   ]
  },
  {
   "cell_type": "code",
   "execution_count": null,
   "id": "e10a91e9-1007-4b03-a64c-05a537a9b45a",
   "metadata": {},
   "outputs": [],
   "source": [
    "def partition(head: Node, x: int):\n",
    "  lower: SinglyLinkedList = SinglyLinkedList()\n",
    "  higher: SinglyLinkedList = SinglyLinkedList()\n",
    "\n",
    "  curr: Node = head\n",
    "  while curr != None:\n",
    "    if curr.data < x:\n",
    "      lower.push(curr.data)\n",
    "    else:\n",
    "      higher.push(curr.data)\n",
    "    curr = curr.next\n",
    "\n",
    "  lower.extend(higher)\n",
    "  return lower"
   ]
  },
  {
   "cell_type": "markdown",
   "id": "69c01c5d-2ac9-48ba-98fb-25d60cd7dcf7",
   "metadata": {},
   "source": [
    "### Sum Lists"
   ]
  },
  {
   "cell_type": "code",
   "execution_count": 16,
   "id": "eafe3405-6950-40b7-9b93-3cef16fb16c1",
   "metadata": {},
   "outputs": [
    {
     "name": "stdout",
     "output_type": "stream",
     "text": [
      "7 5\n",
      "1 9\n",
      "0 2\n"
     ]
    },
    {
     "data": {
      "text/plain": [
       " 2 1 3"
      ]
     },
     "execution_count": 16,
     "metadata": {},
     "output_type": "execute_result"
    }
   ],
   "source": [
    "def sum_list(num1: SinglyLinkedList, num2:SinglyLinkedList):\n",
    "    d1, d2 = num1.get(0), num2.get(0)\n",
    "    if d1 == None:\n",
    "        return d2\n",
    "    if d2 == None:\n",
    "        return d1\n",
    "\n",
    "    out = SinglyLinkedList()\n",
    "    overflow = 0\n",
    "    while d1 != None or d2 != None:\n",
    "        v1 = d1.data if d1 else 0\n",
    "        v2 = d2.data if d2 else 0\n",
    "        print(v1, v2)\n",
    "        s  = v1 + v2 + overflow\n",
    "        if s < 10:\n",
    "            overflow = 0\n",
    "            out.push(s)\n",
    "        else:\n",
    "            overflow = 1\n",
    "            out.push(s-10)\n",
    "        if d1 != None:\n",
    "            d1 = d1.next\n",
    "        if d2 != None:\n",
    "            d2 = d2.next\n",
    "    return out\n",
    "\n",
    "# sum_list(SinglyLinkedList((7,1,6)), SinglyLinkedList((5,9,2)))\n",
    "# sum_list(SinglyLinkedList((7,1,6)), SinglyLinkedList((5,9)))\n",
    "sum_list(SinglyLinkedList((7,1)), SinglyLinkedList((5,9,2)))"
   ]
  }
 ],
 "metadata": {
  "kernelspec": {
   "display_name": "Python 3 (ipykernel)",
   "language": "python",
   "name": "python3"
  },
  "language_info": {
   "codemirror_mode": {
    "name": "ipython",
    "version": 3
   },
   "file_extension": ".py",
   "mimetype": "text/x-python",
   "name": "python",
   "nbconvert_exporter": "python",
   "pygments_lexer": "ipython3",
   "version": "3.12.2"
  }
 },
 "nbformat": 4,
 "nbformat_minor": 5
}
