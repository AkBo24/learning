{
 "cells": [
  {
   "cell_type": "markdown",
   "id": "21a84e63-81cd-47e6-adc9-46e48abdad1d",
   "metadata": {},
   "source": [
    "# Data Structure"
   ]
  },
  {
   "cell_type": "code",
   "execution_count": 1,
   "id": "445a8483-bb3e-41b8-8d4b-f56a00a79843",
   "metadata": {},
   "outputs": [],
   "source": [
    "class SinglyLinkedList:\n",
    "  # O(n)\n",
    "  def __init__(self, data=()):\n",
    "    self.head = None\n",
    "    for d in data:\n",
    "      self.push(d)\n",
    "      pass\n",
    "\n",
    "  # O(n)\n",
    "  def push(self, data):\n",
    "    if self.head is None:\n",
    "      self.head = Node(data)\n",
    "      return\n",
    "\n",
    "    curr = self.head\n",
    "    while curr.next is not None:\n",
    "      curr = curr.next\n",
    "    curr.next = Node(data)\n",
    "\n",
    "  # O(n)\n",
    "  def pop(self):\n",
    "    if self.head is None:\n",
    "      raise Exception('Cannot pop from empty list')\n",
    "    if self.head.next is None:\n",
    "      self.head = None\n",
    "      return\n",
    "    previous = None\n",
    "    curr = self.head\n",
    "    while curr.next is not None:\n",
    "      previous = curr\n",
    "      curr = curr.next\n",
    "    previous.next = None\n",
    "\n",
    "  def remove(self, value):\n",
    "    if self.head is None:\n",
    "      raise Exception('Cannot remove from empty list')\n",
    "    # if self.head.data == value:\n",
    "    #     self.head = self.head.next\n",
    "    #     return\n",
    "    previous = None\n",
    "    curr = self.head\n",
    "    while curr != None:\n",
    "        if curr.data == value:\n",
    "            # print('here', previous.data, curr.data, curr.next.data)\n",
    "            previous.next = curr.next\n",
    "            # print(previous.data, previous.next.data)\n",
    "            # print(self)\n",
    "            return self\n",
    "        previous = curr\n",
    "        curr = curr.next\n",
    "        # print(f\"previous: {previous.data}, curr: {curr.data}\")\n",
    "\n",
    "  def get(self, i):\n",
    "    if i < 0 or i > len(self):\n",
    "      raise Exception(f'Index {i} out of bounds')\n",
    "    if self.head is None:\n",
    "      return None\n",
    "    curr = self.head\n",
    "    j = 0\n",
    "    while curr is not None:\n",
    "      if j == i:\n",
    "        return curr\n",
    "      curr = curr.next\n",
    "      j += 1\n",
    "    return None\n",
    "\n",
    "  def __len__(self):\n",
    "    if self.head is None:\n",
    "      return 0\n",
    "    size = 0\n",
    "    curr = self.head\n",
    "    while curr is not None:\n",
    "      size += 1\n",
    "      curr = curr.next\n",
    "    return size\n",
    "\n",
    "  def __repr__(self) -> str:\n",
    "    return str(self)\n",
    "\n",
    "  def __str__(self):\n",
    "    if self.head is None:\n",
    "      return \" Empty List\"\n",
    "\n",
    "    curr = self.head\n",
    "    out = \"\"\n",
    "\n",
    "    while curr is not None:\n",
    "      out += f\" {curr.data}\"\n",
    "      curr = curr.next\n",
    "    return out\n",
    "\n",
    "\n",
    "class Node:\n",
    "\n",
    "  def __init__(self, data=None):\n",
    "    self.data = data\n",
    "    self.next = None"
   ]
  },
  {
   "cell_type": "markdown",
   "id": "e29ca22a-e7e8-4c44-a81f-61de8c18e5ff",
   "metadata": {},
   "source": [
    "# Coding Questions\n",
    "\n",
    "### 1. Remove Duplicates"
   ]
  },
  {
   "cell_type": "code",
   "execution_count": 6,
   "id": "c7013ae6-6930-4dc7-ae18-b1d4a81f10fe",
   "metadata": {},
   "outputs": [
    {
     "name": "stdout",
     "output_type": "stream",
     "text": [
      " 9 1 4 3\n"
     ]
    }
   ],
   "source": [
    "def includes(slist: SinglyLinkedList, val: Node):\n",
    "  curr = slist.head\n",
    "  while curr != None:\n",
    "    if curr.data == val.data:\n",
    "      return True\n",
    "    curr = curr.next\n",
    "  return False\n",
    "\n",
    "\n",
    "def remove_dups(slist: SinglyLinkedList):\n",
    "  #  1->3->4->3->5->1->9\n",
    "  out = SinglyLinkedList()\n",
    "  curr = slist.head\n",
    "\n",
    "  while curr != None:\n",
    "    if not includes(out, curr):\n",
    "      out.push(curr.data)\n",
    "    curr = curr.next\n",
    "  return out\n",
    "out = remove_dups(slist=SinglyLinkedList((9, 1, 4, 3, 4, 1, 9)))\n",
    "print(out)"
   ]
  },
  {
   "cell_type": "code",
   "execution_count": 75,
   "id": "f37db8dd-66d4-409b-b1ea-d9d43d3e895c",
   "metadata": {},
   "outputs": [
    {
     "name": "stdout",
     "output_type": "stream",
     "text": [
      " 10 3 4 1 9\n"
     ]
    }
   ],
   "source": [
    "def remove_dups_no_buffer(slist: SinglyLinkedList):\n",
    "    values = set()\n",
    "    curr = slist.get(0)\n",
    "    while curr := curr.next:\n",
    "        if curr.data in values:\n",
    "            slist.remove(curr.data)\n",
    "        else:\n",
    "            values.add(curr.data)\n",
    "    return slist\n",
    "\n",
    "out = remove_dups_no_buffer(SinglyLinkedList((10, 4, 9, 3, 4, 1, 9)))\n",
    "print(out)"
   ]
  },
  {
   "cell_type": "code",
   "execution_count": 68,
   "id": "08bd1211-1a18-4e7b-99dc-e3c4c8f7bfe5",
   "metadata": {},
   "outputs": [
    {
     "data": {
      "text/plain": [
       " 10 4 4 3 4 1"
      ]
     },
     "execution_count": 68,
     "metadata": {},
     "output_type": "execute_result"
    }
   ],
   "source": [
    "test = SinglyLinkedList((10, 4, 4, 3, 4, 1, 9))\n",
    "test.remove(9)\n",
    "test"
   ]
  },
  {
   "cell_type": "markdown",
   "id": "4dfe387a-e97e-431c-83ae-46ca0979c9ec",
   "metadata": {},
   "source": [
    "### 2. Return Kth to Last"
   ]
  },
  {
   "cell_type": "code",
   "execution_count": 25,
   "id": "96c6a63a-cd01-42fd-ba98-c785e6db7ae5",
   "metadata": {},
   "outputs": [
    {
     "name": "stdout",
     "output_type": "stream",
     "text": [
      "10 7 0 0\n",
      "4 7 1 1\n",
      "9 7 2 2\n",
      "3 7 3 3\n",
      "-100 7 4 4\n",
      "1 7 5 5\n",
      "9 7 6 6\n",
      "None 7 7 6\n",
      "None\n"
     ]
    }
   ],
   "source": [
    "def get_kth_to_last(head: Node, k: int):\n",
    "    if head == None:\n",
    "        return None\n",
    "        \n",
    "    values = [head]\n",
    "    curr = head\n",
    "    while curr := curr.next:\n",
    "        values.append(curr)\n",
    "    return values[len(values)-k-1] if len(values)-k-1 >= 0 else None\n",
    "\n",
    "def __get_kth_to_last_recursive(curr: Node, k: int, index: int, size: int, ans):\n",
    "    print(curr.data if curr else None, k, index, size)\n",
    "    if not curr and size-1-index == k:\n",
    "        print('hi')\n",
    "        ans = curr\n",
    "        return None\n",
    "    elif not curr:\n",
    "        return None\n",
    "    return __get_kth_to_last_recursive(curr.next, k, index+1, size + 1 if curr.next else size, ans)\n",
    "def get_kth_to_last_recursive(head: Node, k: int):\n",
    "    ans = None\n",
    "    __get_kth_to_last_recursive(head, k, 0, 0, ans)\n",
    "    return ans\n",
    "\n",
    "slist = SinglyLinkedList((10, 4, 9, 3, -100, 1, 9))\n",
    "out = get_kth_to_last_recursive(slist.get(0), 7)\n",
    "print(out.data if out else out)"
   ]
  },
  {
   "cell_type": "markdown",
   "id": "973f5d22-a68a-429a-ae58-45347d55cfd5",
   "metadata": {},
   "source": [
    "10 -> 4 -> 9 -> 3 -> -100 -> 1 -> 9 -> None\n",
    "\n",
    "10: 0\n",
    "    4: 1\n",
    "        9: 2\n",
    "            3: 3\n",
    "                -100: 4\n",
    "                    1: 5\n",
    "                        9: 6\n",
    "                            None"
   ]
  }
 ],
 "metadata": {
  "kernelspec": {
   "display_name": "Python 3 (ipykernel)",
   "language": "python",
   "name": "python3"
  },
  "language_info": {
   "codemirror_mode": {
    "name": "ipython",
    "version": 3
   },
   "file_extension": ".py",
   "mimetype": "text/x-python",
   "name": "python",
   "nbconvert_exporter": "python",
   "pygments_lexer": "ipython3",
   "version": "3.12.2"
  }
 },
 "nbformat": 4,
 "nbformat_minor": 5
}
