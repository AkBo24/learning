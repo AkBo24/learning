{
 "cells": [
  {
   "cell_type": "code",
   "execution_count": 2,
   "id": "8c7165f1-e51d-48c1-b545-06c030d6fe35",
   "metadata": {},
   "outputs": [
    {
     "data": {
      "text/plain": [
       "(data: a, edges: [], data: b, edges: ['a'], data: c, edges: ['b'])"
      ]
     },
     "execution_count": 2,
     "metadata": {},
     "output_type": "execute_result"
    }
   ],
   "source": [
    "class Node:\n",
    "    def __init__(self, data=None, edges=None):\n",
    "        self.data  = data\n",
    "        if type(edges) == type([]):\n",
    "            self.edges = edges\n",
    "        elif edges: # assume its a node\n",
    "            self.edges = [edges]\n",
    "        else:\n",
    "            self.edges = []\n",
    "    def add_edge(self, edge = None):\n",
    "        self.edges.append(edge if edge else [])\n",
    "    def delete_edge(self, node):\n",
    "        i = 0\n",
    "        while i < len(self.edges):\n",
    "            if self.edges[i] == node:\n",
    "                self.edges.pop(i)\n",
    "            else:\n",
    "                i+=1\n",
    "    def __repr__(self):\n",
    "        return str(self)\n",
    "    def __str__(self):\n",
    "        return f\"data: {self.data}, edges: {[edge.data for edge in self.edges]}\"\n",
    "a = Node('a')\n",
    "b = Node('b', a)\n",
    "c = Node('c', [a,b])\n",
    "c.delete_edge(a)\n",
    "a,b,c"
   ]
  },
  {
   "cell_type": "code",
   "execution_count": 34,
   "id": "104dfab9-f533-4c79-82f8-bfdff1dc6740",
   "metadata": {
    "editable": true,
    "slideshow": {
     "slide_type": ""
    },
    "tags": []
   },
   "outputs": [],
   "source": [
    "class Graph: #undirected\n",
    "    def __init__(self):\n",
    "        self.nodes = []\n",
    "    def add(self, data, edges=None):\n",
    "        node = Node(data, edges)\n",
    "        self.nodes.append(node)\n",
    "        for n in node.edges:\n",
    "            n.add_edge(node)\n",
    "        return node\n",
    "    def delete(self, node):\n",
    "        # delete from self.nodes\n",
    "        for i in range(len(self.nodes)):\n",
    "            if self.nodes[i] == node:\n",
    "                deleted = self.nodes.pop(i)\n",
    "                break\n",
    "        # delete all edges pointing to deleted node\n",
    "        for i in range(len(self.nodes)):\n",
    "            self.nodes[i].delete_edge(node)\n",
    "        return deleted\n",
    "    def add_edge(self, s, d):\n",
    "        for node in self.nodes:\n",
    "            if node == s:\n",
    "                s.add_edge(d)\n",
    "            if node == d:\n",
    "                d.add_edge(s)\n",
    "    def is_connected_bfs(self, s, e):\n",
    "        seen = set()\n",
    "        queue = [s]\n",
    "        while len(queue) > 0:\n",
    "            if e in queue:\n",
    "                return True\n",
    "            top = queue.pop(0)\n",
    "            seen.add(top)\n",
    "            for edge in top.edges:\n",
    "                if edge not in seen:\n",
    "                    queue.append(edge)\n",
    "        return False\n",
    "    def is_connected_dfs(self, s, e):\n",
    "        stack, seen = [s], set()\n",
    "\n",
    "        while len(stack) > 0:\n",
    "            # print([n.data for n in stack], seen)\n",
    "            curr = stack.pop(0)\n",
    "            if curr in seen:\n",
    "                continue\n",
    "            seen.add(curr)\n",
    "            new_edges = []\n",
    "            for edge in curr.edges:\n",
    "                if edge == e:\n",
    "                    return True\n",
    "                new_edges.append(edge)\n",
    "            stack = new_edges + stack\n",
    "        return False\n",
    "    def __repr__(self):\n",
    "        return str(self)\n",
    "    def __str__(self):\n",
    "        out = [f\"{node}\\n\" for node in self.nodes]\n",
    "        return \"\".join(out)"
   ]
  },
  {
   "cell_type": "code",
   "execution_count": 40,
   "id": "b946b2c4-39b5-472f-b637-63a41bdb8e02",
   "metadata": {},
   "outputs": [
    {
     "data": {
      "text/plain": [
       "True"
      ]
     },
     "execution_count": 40,
     "metadata": {},
     "output_type": "execute_result"
    }
   ],
   "source": [
    "graph = Graph()\n",
    "s = graph.add(\"s\")\n",
    "a = graph.add(\"a\", s)\n",
    "b = graph.add(\"b\", [a])\n",
    "c = graph.add(\"c\", a)\n",
    "d = graph.add(\"d\", [c,b])\n",
    "e = graph.add(\"e\")\n",
    "f = graph.add(\"f\", [c,d, e])\n",
    "g = graph.add(\"g\")\n",
    "h = graph.add(\"h\", [f, e])\n",
    "i = graph.add(\"i\", g)\n",
    "graph.is_connected_dfs(i,g)"
   ]
  },
  {
   "cell_type": "code",
   "execution_count": 1,
   "id": "c1e9ba81-752a-4289-8943-4bc72a41b0fa",
   "metadata": {},
   "outputs": [],
   "source": [
    "class BSTNode:\n",
    "    def __init__(self, data=None, left=None, right=None):\n",
    "        self.data = data\n",
    "        self.left = left\n",
    "        self.right = right\n",
    "    def __repr__(self):\n",
    "        return str(self)\n",
    "    def __str__(self):\n",
    "        children = \"no children\" if not self.left and not self.right else f\"left: {self.left.data if self.left else 'no left'}, right: {self.right.data if self.right else 'no right'}\"\n",
    "        return f\"data: {self.data}, {children}\"\n",
    "\n",
    "class BinarySearchTree:\n",
    "    def __init__(self, root = None):\n",
    "        self.root = root\n",
    "    def add(self, data):\n",
    "        new_node = BSTNode(data)\n",
    "        if not self.root:\n",
    "            self.root = new_node\n",
    "            return new_node\n",
    "        parent = self.root\n",
    "        while True:\n",
    "            if new_node.data <= parent.data:\n",
    "                if not parent.left:\n",
    "                    parent.left = new_node\n",
    "                    break\n",
    "                parent = parent.left\n",
    "            elif new_node.data > parent.data:\n",
    "                if not parent.right:\n",
    "                    parent.right = new_node\n",
    "                    break\n",
    "                parent = parent.right\n",
    "        return new_node\n",
    "    def delete(self, data):\n",
    "        if self.root is None:\n",
    "            return None\n",
    "        parent = self.root\n",
    "        while True:\n",
    "            c_data = parent.data\n",
    "            if c_data < parent.data:\n",
    "                if parent.left and parent.left.data == data:\n",
    "                    \n",
    "                    break\n",
    "                parent = parent.left\n",
    "            elif c_data > parent.data:\n",
    "                if parent.right and parent.right.data == data:\n",
    "                    break\n",
    "                parent = parent.right\n",
    "        # found parent\n",
    "        \n",
    "        pass\n",
    "    def find(self, data):\n",
    "        pass\n",
    "    def in_order_traversal(self):\n",
    "        def __in_order(node):\n",
    "            if not node:\n",
    "                return \"\"\n",
    "            out = __in_order(node.left)\n",
    "            out += \" \" + str(node.data)\n",
    "            out += __in_order(node.right)\n",
    "            return out\n",
    "        return __in_order(self.root)\n",
    "    def pre_order_traversal(self):\n",
    "        out = \"\"\n",
    "        def __pre_order(node):\n",
    "            nonlocal out\n",
    "            if node is None:\n",
    "                return out\n",
    "            out = f\"{out} {node.data}\"\n",
    "            __pre_order(node.left)\n",
    "            __pre_order(node.right)\n",
    "        __pre_order(self.root)\n",
    "        return out\n",
    "    def post_order_traversal(self):\n",
    "        def __post_order(node):\n",
    "            if not node:\n",
    "                return \"\"\n",
    "            out = __post_order(node.left)\n",
    "            out += __post_order(node.right)\n",
    "            out += f\"{str(node.data)} \"\n",
    "            return out\n",
    "        return __post_order(self.root)"
   ]
  },
  {
   "cell_type": "code",
   "execution_count": 11,
   "id": "36572caa-9b32-40c8-896b-190aeda3a348",
   "metadata": {},
   "outputs": [
    {
     "data": {
      "text/plain": [
       "'-20 -5 -10 20 10 0 '"
      ]
     },
     "execution_count": 11,
     "metadata": {},
     "output_type": "execute_result"
    }
   ],
   "source": [
    "bst = BinarySearchTree()\n",
    "root = bst.add(0)\n",
    "ten = bst.add(10)\n",
    "twenty = bst.add(20)\n",
    "n_ten = bst.add(-10)\n",
    "n_twenty = bst.add(-20)\n",
    "n_fifteen = bst.add(-5)\n",
    "bst.post_order_traversal()"
   ]
  },
  {
   "cell_type": "markdown",
   "id": "7a0d35a3-0479-4aec-bfb8-079430aa1f67",
   "metadata": {},
   "source": [
    "### Minimal Tree"
   ]
  },
  {
   "cell_type": "code",
   "execution_count": 41,
   "id": "3e8d095e-ec65-4689-89ce-7abba2eaba46",
   "metadata": {},
   "outputs": [
    {
     "name": "stdout",
     "output_type": "stream",
     "text": [
      "[0, 1, 2, 3, 4, 5, 6, 7, 8, 9, 10]\n",
      "mid=6\n",
      "[0, 1, 2, 3, 4, 5]\n",
      "mid=4\n",
      "[0, 1, 2, 3]\n",
      "[5]\n",
      "[7, 8, 9, 10]\n"
     ]
    },
    {
     "data": {
      "text/plain": [
       "data: 6, left: 4, right: 8"
      ]
     },
     "execution_count": 41,
     "metadata": {},
     "output_type": "execute_result"
    }
   ],
   "source": [
    "def min_tree(arr):\n",
    "    print(arr)\n",
    "    if len(arr)   == 0:\n",
    "        return None\n",
    "    if len(arr)   == 1:\n",
    "        return BSTNode(arr[0])\n",
    "    elif len(arr) == 2:\n",
    "        s_r = BSTNode(arr[0])\n",
    "        s_r.right = BSTNode(arr[1])\n",
    "        return s_r\n",
    "    elif len(arr) == 3:\n",
    "        s_r = BSTNode(arr[1])\n",
    "        s_r.left  = BSTNode(arr[0])\n",
    "        s_r.right = BSTNode(arr[2])\n",
    "        return s_r\n",
    "    elif len(arr) == 4: # not necessary but makes a balanced 4 node tree\n",
    "        s_r = BSTNode(arr[1])\n",
    "        s_r.left  = BSTNode(arr[0])\n",
    "        s_r.right = BSTNode(arr[2])\n",
    "        s_r.right.right = BSTNode(arr[3])\n",
    "        return s_r\n",
    "    mid = len(arr) // 2 + 1\n",
    "    print(f\"{mid=}\")\n",
    "    s_r = BSTNode(arr[mid])\n",
    "    s_r.left = min_tree(arr[:mid])\n",
    "    s_r.right = min_tree(arr[mid+1:])\n",
    "    return s_r\n",
    "\n",
    "arr = list(range(0,11))\n",
    "tree = min_tree(arr)\n",
    "bst  = BinarySearchTree(tree)\n",
    "bst.root"
   ]
  },
  {
   "cell_type": "code",
   "execution_count": 34,
   "id": "4063cd5e-834e-48ae-88cc-718485d87a09",
   "metadata": {},
   "outputs": [
    {
     "data": {
      "text/plain": [
       "[0, 1, 2, 3, 4, 5, 6, 7, 8, 9, 10]"
      ]
     },
     "execution_count": 34,
     "metadata": {},
     "output_type": "execute_result"
    }
   ],
   "source": [
    "arr"
   ]
  }
 ],
 "metadata": {
  "kernelspec": {
   "display_name": "Python 3 (ipykernel)",
   "language": "python",
   "name": "python3"
  },
  "language_info": {
   "codemirror_mode": {
    "name": "ipython",
    "version": 3
   },
   "file_extension": ".py",
   "mimetype": "text/x-python",
   "name": "python",
   "nbconvert_exporter": "python",
   "pygments_lexer": "ipython3",
   "version": "3.12.2"
  }
 },
 "nbformat": 4,
 "nbformat_minor": 5
}
