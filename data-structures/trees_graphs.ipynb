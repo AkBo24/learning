{
 "cells": [
  {
   "cell_type": "code",
   "execution_count": 2,
   "id": "8c7165f1-e51d-48c1-b545-06c030d6fe35",
   "metadata": {},
   "outputs": [
    {
     "data": {
      "text/plain": [
       "(data: a, edges: [], data: b, edges: ['a'], data: c, edges: ['b'])"
      ]
     },
     "execution_count": 2,
     "metadata": {},
     "output_type": "execute_result"
    }
   ],
   "source": [
    "class Node:\n",
    "    def __init__(self, data=None, edges=None):\n",
    "        self.data  = data\n",
    "        if type(edges) == type([]):\n",
    "            self.edges = edges\n",
    "        elif edges: # assume its a node\n",
    "            self.edges = [edges]\n",
    "        else:\n",
    "            self.edges = []\n",
    "    def add_edge(self, edge = None):\n",
    "        self.edges.append(edge if edge else [])\n",
    "    def delete_edge(self, node):\n",
    "        i = 0\n",
    "        while i < len(self.edges):\n",
    "            if self.edges[i] == node:\n",
    "                self.edges.pop(i)\n",
    "            else:\n",
    "                i+=1\n",
    "    def __repr__(self):\n",
    "        return str(self)\n",
    "    def __str__(self):\n",
    "        return f\"data: {self.data}, edges: {[edge.data for edge in self.edges]}\"\n",
    "a = Node('a')\n",
    "b = Node('b', a)\n",
    "c = Node('c', [a,b])\n",
    "c.delete_edge(a)\n",
    "a,b,c"
   ]
  },
  {
   "cell_type": "code",
   "execution_count": 34,
   "id": "104dfab9-f533-4c79-82f8-bfdff1dc6740",
   "metadata": {
    "editable": true,
    "slideshow": {
     "slide_type": ""
    },
    "tags": []
   },
   "outputs": [],
   "source": [
    "class Graph: #undirected\n",
    "    def __init__(self):\n",
    "        self.nodes = []\n",
    "    def add(self, data, edges=None):\n",
    "        node = Node(data, edges)\n",
    "        self.nodes.append(node)\n",
    "        for n in node.edges:\n",
    "            n.add_edge(node)\n",
    "        return node\n",
    "    def delete(self, node):\n",
    "        # delete from self.nodes\n",
    "        for i in range(len(self.nodes)):\n",
    "            if self.nodes[i] == node:\n",
    "                deleted = self.nodes.pop(i)\n",
    "                break\n",
    "        # delete all edges pointing to deleted node\n",
    "        for i in range(len(self.nodes)):\n",
    "            self.nodes[i].delete_edge(node)\n",
    "        return deleted\n",
    "    def add_edge(self, s, d):\n",
    "        for node in self.nodes:\n",
    "            if node == s:\n",
    "                s.add_edge(d)\n",
    "            if node == d:\n",
    "                d.add_edge(s)\n",
    "    def is_connected_bfs(self, s, e):\n",
    "        seen = set()\n",
    "        queue = [s]\n",
    "        while len(queue) > 0:\n",
    "            if e in queue:\n",
    "                return True\n",
    "            top = queue.pop(0)\n",
    "            seen.add(top)\n",
    "            for edge in top.edges:\n",
    "                if edge not in seen:\n",
    "                    queue.append(edge)\n",
    "        return False\n",
    "    def is_connected_dfs(self, s, e):\n",
    "        stack, seen = [s], set()\n",
    "\n",
    "        while len(stack) > 0:\n",
    "            # print([n.data for n in stack], seen)\n",
    "            curr = stack.pop(0)\n",
    "            if curr in seen:\n",
    "                continue\n",
    "            seen.add(curr)\n",
    "            new_edges = []\n",
    "            for edge in curr.edges:\n",
    "                if edge == e:\n",
    "                    return True\n",
    "                new_edges.append(edge)\n",
    "            stack = new_edges + stack\n",
    "        return False\n",
    "    def __repr__(self):\n",
    "        return str(self)\n",
    "    def __str__(self):\n",
    "        out = [f\"{node}\\n\" for node in self.nodes]\n",
    "        return \"\".join(out)"
   ]
  },
  {
   "cell_type": "code",
   "execution_count": 40,
   "id": "b946b2c4-39b5-472f-b637-63a41bdb8e02",
   "metadata": {},
   "outputs": [
    {
     "data": {
      "text/plain": [
       "True"
      ]
     },
     "execution_count": 40,
     "metadata": {},
     "output_type": "execute_result"
    }
   ],
   "source": [
    "graph = Graph()\n",
    "s = graph.add(\"s\")\n",
    "a = graph.add(\"a\", s)\n",
    "b = graph.add(\"b\", [a])\n",
    "c = graph.add(\"c\", a)\n",
    "d = graph.add(\"d\", [c,b])\n",
    "e = graph.add(\"e\")\n",
    "f = graph.add(\"f\", [c,d, e])\n",
    "g = graph.add(\"g\")\n",
    "h = graph.add(\"h\", [f, e])\n",
    "i = graph.add(\"i\", g)\n",
    "graph.is_connected_dfs(i,g)"
   ]
  },
  {
   "cell_type": "code",
   "execution_count": null,
   "id": "c1e9ba81-752a-4289-8943-4bc72a41b0fa",
   "metadata": {},
   "outputs": [],
   "source": [
    "class BinarySearchTree:\n",
    "    def __init__():\n",
    "        self.root = None\n",
    "    def add():\n",
    "        pass\n",
    "    def delete(data):\n",
    "        pass\n",
    "    def find(data):\n",
    "        pass\n",
    "    def in_order_traversal():\n",
    "        pass\n",
    "    def pre_order_traversal():\n",
    "        pass\n",
    "    def post_order_traversal():\n",
    "        pass"
   ]
  }
 ],
 "metadata": {
  "kernelspec": {
   "display_name": "Python 3 (ipykernel)",
   "language": "python",
   "name": "python3"
  },
  "language_info": {
   "codemirror_mode": {
    "name": "ipython",
    "version": 3
   },
   "file_extension": ".py",
   "mimetype": "text/x-python",
   "name": "python",
   "nbconvert_exporter": "python",
   "pygments_lexer": "ipython3",
   "version": "3.12.2"
  }
 },
 "nbformat": 4,
 "nbformat_minor": 5
}
