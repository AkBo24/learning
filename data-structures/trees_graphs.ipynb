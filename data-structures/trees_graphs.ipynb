{
 "cells": [
  {
   "cell_type": "code",
   "execution_count": 2,
   "id": "8c7165f1-e51d-48c1-b545-06c030d6fe35",
   "metadata": {},
   "outputs": [
    {
     "data": {
      "text/plain": [
       "(data: a, edges: [], data: b, edges: ['a'], data: c, edges: ['b'])"
      ]
     },
     "execution_count": 2,
     "metadata": {},
     "output_type": "execute_result"
    }
   ],
   "source": [
    "class Node:\n",
    "    def __init__(self, data=None, edges=None):\n",
    "        self.data  = data\n",
    "        if type(edges) == type([]):\n",
    "            self.edges = edges\n",
    "        elif edges: # assume its a node\n",
    "            self.edges = [edges]\n",
    "        else:\n",
    "            self.edges = []\n",
    "    def add_edge(self, edge = None):\n",
    "        self.edges.append(edge if edge else [])\n",
    "    def delete_edge(self, node):\n",
    "        i = 0\n",
    "        while i < len(self.edges):\n",
    "            if self.edges[i] == node:\n",
    "                self.edges.pop(i)\n",
    "            else:\n",
    "                i+=1\n",
    "    def __repr__(self):\n",
    "        return str(self)\n",
    "    def __str__(self):\n",
    "        return f\"data: {self.data}, edges: {[edge.data for edge in self.edges]}\"\n",
    "a = Node('a')\n",
    "b = Node('b', a)\n",
    "c = Node('c', [a,b])\n",
    "c.delete_edge(a)\n",
    "a,b,c"
   ]
  },
  {
   "cell_type": "code",
   "execution_count": 3,
   "id": "661476a6-c153-4872-84c8-55f092d1bb9e",
   "metadata": {},
   "outputs": [
    {
     "data": {
      "text/plain": [
       "[3, 2, 1]"
      ]
     },
     "execution_count": 3,
     "metadata": {},
     "output_type": "execute_result"
    }
   ],
   "source": [
    "def test(x, i):\n",
    "    if i == 0:\n",
    "        return\n",
    "    x.append(i)\n",
    "    test(x, i-1)\n",
    "y = []\n",
    "test(y, 3)\n",
    "y"
   ]
  },
  {
   "cell_type": "code",
   "execution_count": 34,
   "id": "104dfab9-f533-4c79-82f8-bfdff1dc6740",
   "metadata": {
    "editable": true,
    "slideshow": {
     "slide_type": ""
    },
    "tags": []
   },
   "outputs": [],
   "source": [
    "class Graph: #undirected\n",
    "    def __init__(self):\n",
    "        self.nodes = []\n",
    "    def add(self, data, edges=None):\n",
    "        node = Node(data, edges)\n",
    "        self.nodes.append(node)\n",
    "        for n in node.edges:\n",
    "            n.add_edge(node)\n",
    "        return node\n",
    "    def delete(self, node):\n",
    "        # delete from self.nodes\n",
    "        for i in range(len(self.nodes)):\n",
    "            if self.nodes[i] == node:\n",
    "                deleted = self.nodes.pop(i)\n",
    "                break\n",
    "        # delete all edges pointing to deleted node\n",
    "        for i in range(len(self.nodes)):\n",
    "            self.nodes[i].delete_edge(node)\n",
    "        return deleted\n",
    "    def add_edge(self, s, d):\n",
    "        for node in self.nodes:\n",
    "            if node == s:\n",
    "                s.add_edge(d)\n",
    "            if node == d:\n",
    "                d.add_edge(s)\n",
    "    def is_connected_bfs(self, s, e):\n",
    "        seen = set()\n",
    "        queue = [s]\n",
    "        while len(queue) > 0:\n",
    "            if e in queue:\n",
    "                return True\n",
    "            top = queue.pop(0)\n",
    "            seen.add(top)\n",
    "            for edge in top.edges:\n",
    "                if edge not in seen:\n",
    "                    queue.append(edge)\n",
    "        return False\n",
    "    def is_connected_dfs(self, s, e):\n",
    "        stack, seen = [s], set()\n",
    "\n",
    "        while len(stack) > 0:\n",
    "            # print([n.data for n in stack], seen)\n",
    "            curr = stack.pop(0)\n",
    "            if curr in seen:\n",
    "                continue\n",
    "            seen.add(curr)\n",
    "            new_edges = []\n",
    "            for edge in curr.edges:\n",
    "                if edge == e:\n",
    "                    return True\n",
    "                new_edges.append(edge)\n",
    "            stack = new_edges + stack\n",
    "        return False\n",
    "    def __repr__(self):\n",
    "        return str(self)\n",
    "    def __str__(self):\n",
    "        out = [f\"{node}\\n\" for node in self.nodes]\n",
    "        return \"\".join(out)"
   ]
  },
  {
   "cell_type": "code",
   "execution_count": 40,
   "id": "b946b2c4-39b5-472f-b637-63a41bdb8e02",
   "metadata": {},
   "outputs": [
    {
     "data": {
      "text/plain": [
       "True"
      ]
     },
     "execution_count": 40,
     "metadata": {},
     "output_type": "execute_result"
    }
   ],
   "source": [
    "graph = Graph()\n",
    "s = graph.add(\"s\")\n",
    "a = graph.add(\"a\", s)\n",
    "b = graph.add(\"b\", [a])\n",
    "c = graph.add(\"c\", a)\n",
    "d = graph.add(\"d\", [c,b])\n",
    "e = graph.add(\"e\")\n",
    "f = graph.add(\"f\", [c,d, e])\n",
    "g = graph.add(\"g\")\n",
    "h = graph.add(\"h\", [f, e])\n",
    "i = graph.add(\"i\", g)\n",
    "graph.is_connected_dfs(i,g)"
   ]
  },
  {
   "cell_type": "code",
   "execution_count": 6,
   "id": "c1e9ba81-752a-4289-8943-4bc72a41b0fa",
   "metadata": {},
   "outputs": [],
   "source": [
    "class BSTNode:\n",
    "    def __init__(self, data=None, left=None, right=None):\n",
    "        self.data = data\n",
    "        self.left = left\n",
    "        self.right = right\n",
    "        self.parent = None\n",
    "    def __repr__(self):\n",
    "        return str(self)\n",
    "    def __str__(self):\n",
    "        children = \"no children\" if not self.left and not self.right else f\"left: {self.left.data if self.left else 'no left'}, right: {self.right.data if self.right else 'no right'}\"\n",
    "        return f\"data: {self.data}, {children}, parent: {self.parent.data}\"\n",
    "\n",
    "class BinarySearchTree:\n",
    "    def __init__(self, root = None):\n",
    "        self.root = root\n",
    "    def add(self, data):\n",
    "        new_node = BSTNode(data)\n",
    "        if not self.root:\n",
    "            self.root = new_node\n",
    "            return new_node\n",
    "        parent = self.root\n",
    "        while True:\n",
    "            if new_node.data <= parent.data:\n",
    "                if not parent.left:\n",
    "                    parent.left = new_node\n",
    "                    parent.left.parent = parent\n",
    "                    break\n",
    "                parent = parent.left\n",
    "            elif new_node.data > parent.data:\n",
    "                if not parent.right:\n",
    "                    parent.right = new_node\n",
    "                    parent.right.parent = parent\n",
    "                    break\n",
    "                parent = parent.right\n",
    "        return new_node\n",
    "    def delete(self, data):\n",
    "        if self.root is None:\n",
    "            return None\n",
    "        parent = self.root\n",
    "        while True:\n",
    "            c_data = parent.data\n",
    "            if c_data < parent.data:\n",
    "                if parent.left and parent.left.data == data:\n",
    "                    \n",
    "                    break\n",
    "                parent = parent.left\n",
    "            elif c_data > parent.data:\n",
    "                if parent.right and parent.right.data == data:\n",
    "                    break\n",
    "                parent = parent.right\n",
    "        # found parent\n",
    "        \n",
    "        pass\n",
    "    def find(self, data):\n",
    "        pass\n",
    "    def in_order_traversal(self):\n",
    "        def __in_order(node):\n",
    "            if not node:\n",
    "                return \"\"\n",
    "            out = __in_order(node.left)\n",
    "            out += \" \" + str(node.data)\n",
    "            out += __in_order(node.right)\n",
    "            return out\n",
    "        return __in_order(self.root)\n",
    "    def pre_order_traversal(self):\n",
    "        out = \"\"\n",
    "        def __pre_order(node):\n",
    "            nonlocal out\n",
    "            if node is None:\n",
    "                return out\n",
    "            out = f\"{out} {node.data}\"\n",
    "            __pre_order(node.left)\n",
    "            __pre_order(node.right)\n",
    "        __pre_order(self.root)\n",
    "        return out\n",
    "    def post_order_traversal(self):\n",
    "        def __post_order(node):\n",
    "            if not node:\n",
    "                return \"\"\n",
    "            out = __post_order(node.left)\n",
    "            out += __post_order(node.right)\n",
    "            out += f\"{str(node.data)} \"\n",
    "            return out\n",
    "        return __post_order(self.root)"
   ]
  },
  {
   "cell_type": "code",
   "execution_count": 8,
   "id": "36572caa-9b32-40c8-896b-190aeda3a348",
   "metadata": {},
   "outputs": [
    {
     "data": {
      "text/plain": [
       "'-20 -5 -10 20 10 0 '"
      ]
     },
     "execution_count": 8,
     "metadata": {},
     "output_type": "execute_result"
    }
   ],
   "source": [
    "bst = BinarySearchTree()\n",
    "root = bst.add(0)\n",
    "ten = bst.add(10)\n",
    "twenty = bst.add(20)\n",
    "n_ten = bst.add(-10)\n",
    "n_twenty = bst.add(-20)\n",
    "n_fifteen = bst.add(-5)\n",
    "bst.post_order_traversal()"
   ]
  },
  {
   "cell_type": "markdown",
   "id": "7a0d35a3-0479-4aec-bfb8-079430aa1f67",
   "metadata": {},
   "source": [
    "### Minimal Tree"
   ]
  },
  {
   "cell_type": "code",
   "execution_count": 41,
   "id": "3e8d095e-ec65-4689-89ce-7abba2eaba46",
   "metadata": {},
   "outputs": [
    {
     "name": "stdout",
     "output_type": "stream",
     "text": [
      "[0, 1, 2, 3, 4, 5, 6, 7, 8, 9, 10]\n",
      "mid=6\n",
      "[0, 1, 2, 3, 4, 5]\n",
      "mid=4\n",
      "[0, 1, 2, 3]\n",
      "[5]\n",
      "[7, 8, 9, 10]\n"
     ]
    },
    {
     "data": {
      "text/plain": [
       "data: 6, left: 4, right: 8"
      ]
     },
     "execution_count": 41,
     "metadata": {},
     "output_type": "execute_result"
    }
   ],
   "source": [
    "def min_tree(arr):\n",
    "    print(arr)\n",
    "    if len(arr)   == 0:\n",
    "        return None\n",
    "    if len(arr)   == 1:\n",
    "        return BSTNode(arr[0])\n",
    "    elif len(arr) == 2:\n",
    "        s_r = BSTNode(arr[0])\n",
    "        s_r.right = BSTNode(arr[1])\n",
    "        return s_r\n",
    "    elif len(arr) == 3:\n",
    "        s_r = BSTNode(arr[1])\n",
    "        s_r.left  = BSTNode(arr[0])\n",
    "        s_r.right = BSTNode(arr[2])\n",
    "        return s_r\n",
    "    elif len(arr) == 4: # not necessary but makes a balanced 4 node tree\n",
    "        s_r = BSTNode(arr[1])\n",
    "        s_r.left  = BSTNode(arr[0])\n",
    "        s_r.right = BSTNode(arr[2])\n",
    "        s_r.right.right = BSTNode(arr[3])\n",
    "        return s_r\n",
    "    mid = len(arr) // 2 + 1\n",
    "    print(f\"{mid=}\")\n",
    "    s_r = BSTNode(arr[mid])\n",
    "    s_r.left = min_tree(arr[:mid])\n",
    "    s_r.right = min_tree(arr[mid+1:])\n",
    "    return s_r\n",
    "\n",
    "arr = list(range(0,11))\n",
    "tree = min_tree(arr)\n",
    "bst  = BinarySearchTree(tree)\n",
    "bst.root"
   ]
  },
  {
   "cell_type": "markdown",
   "id": "06bc382f-7f02-49be-89ff-bc684a1a7e6f",
   "metadata": {},
   "source": [
    "### List of Depths"
   ]
  },
  {
   "cell_type": "code",
   "execution_count": 36,
   "id": "4f3e6c35-a2e3-4633-aeab-8b9f5a72842e",
   "metadata": {},
   "outputs": [
    {
     "data": {
      "text/plain": [
       "(1)->(2)->(3)->None"
      ]
     },
     "execution_count": 36,
     "metadata": {},
     "output_type": "execute_result"
    }
   ],
   "source": [
    "class LLNode:\n",
    "    def __init__(self, data = None, next_node = None):\n",
    "        self.data = data\n",
    "        self.next = next_node\n",
    "    def __repr__(self):\n",
    "        return str(self)\n",
    "    def __str__(self):\n",
    "        return f\"{self.data}\"\n",
    "class LinkedList:\n",
    "    def __init__(self):\n",
    "        self.head = None\n",
    "    def add(self, data):\n",
    "        new_node = LLNode(data)\n",
    "        if self.head is None:\n",
    "            self.head = new_node\n",
    "            return\n",
    "        # iterate to end and append\n",
    "        curr = self.head\n",
    "        while curr.next is not None:\n",
    "            curr = curr.next\n",
    "        curr.next = new_node\n",
    "    def __repr__(self):\n",
    "        return str(self)\n",
    "    def __str__(self):\n",
    "        if self.head is None:\n",
    "            return \"Empty list\"\n",
    "        out = []\n",
    "        curr = self.head\n",
    "        while curr:\n",
    "            out.append(f\"({curr})->\")\n",
    "            curr = curr.next\n",
    "        out.append(\"None\")\n",
    "        return \"\".join(out)\n",
    "\n",
    "head = LinkedList()\n",
    "head.add(1)\n",
    "head.add(2)\n",
    "head.add(3)\n",
    "head"
   ]
  },
  {
   "cell_type": "code",
   "execution_count": 46,
   "id": "9eaa902c-e756-4228-9fe5-ce2e724e58af",
   "metadata": {},
   "outputs": [
    {
     "data": {
      "text/plain": [
       "[(data: 0, left: -1, right: 1)->None,\n",
       " (data: -1, left: -2, right: -0.5)->(data: 1, left: no left, right: 21)->None,\n",
       " (data: -2, no children)->(data: -0.5, left: -0.75, right: no right)->(data: 21, no children)->None,\n",
       " (data: -0.75, no children)->None]"
      ]
     },
     "execution_count": 46,
     "metadata": {},
     "output_type": "execute_result"
    }
   ],
   "source": [
    "def list_of_depths(node):\n",
    "    if node is None:\n",
    "        return []\n",
    "\n",
    "    out = []\n",
    "    def lists_at_depth(node, depth):\n",
    "        nonlocal out\n",
    "        if node is None:\n",
    "            return\n",
    "        if depth > len(out):\n",
    "            ll = LinkedList()\n",
    "            ll.add(node)\n",
    "            out.append(ll)\n",
    "        else:\n",
    "            out[depth-1].add(node)\n",
    "\n",
    "        lists_at_depth(node.left, depth+1)\n",
    "        lists_at_depth(node.right, depth+1)\n",
    "\n",
    "    lists_at_depth(node, 1) # assuming root\n",
    "    return out\n",
    "\n",
    "bst = BinarySearchTree()\n",
    "bst.add(0)\n",
    "bst.add(1)\n",
    "bst.add(-1)\n",
    "bst.add(21)\n",
    "bst.add(-0.5)\n",
    "bst.add(-0.75)\n",
    "bst.add(-2)\n",
    "list_of_depths(bst.root)"
   ]
  },
  {
   "cell_type": "markdown",
   "id": "f086c241-ab69-479a-8d40-047f314a12f2",
   "metadata": {},
   "source": [
    "### Check Balanced"
   ]
  },
  {
   "cell_type": "code",
   "execution_count": 8,
   "id": "c7d22dbf-76b7-4f69-a682-40322ac0d95e",
   "metadata": {},
   "outputs": [
    {
     "data": {
      "text/plain": [
       "True"
      ]
     },
     "execution_count": 8,
     "metadata": {},
     "output_type": "execute_result"
    }
   ],
   "source": [
    "list(range(-1,2))\n",
    "2-3 in range(-1,2)"
   ]
  },
  {
   "cell_type": "code",
   "execution_count": 42,
   "id": "35443f4c-d213-415b-a361-8c9126b4a079",
   "metadata": {},
   "outputs": [
    {
     "data": {
      "text/plain": [
       "False"
      ]
     },
     "execution_count": 42,
     "metadata": {},
     "output_type": "execute_result"
    }
   ],
   "source": [
    "(0-0) not in range (-1,2)"
   ]
  },
  {
   "cell_type": "code",
   "execution_count": 41,
   "id": "a983177f-5375-4f24-83a6-1ea0b227da95",
   "metadata": {},
   "outputs": [
    {
     "name": "stdout",
     "output_type": "stream",
     "text": [
      "node.data=-20, 0, 0\n",
      "node.data=-10, 3, 0\n",
      "node.data=0, -1, 0\n"
     ]
    },
    {
     "data": {
      "text/plain": [
       "(-1, False)"
      ]
     },
     "execution_count": 41,
     "metadata": {},
     "output_type": "execute_result"
    }
   ],
   "source": [
    "qr = range(-1,2)\n",
    "def __isBalanced(self, node: Optional[TreeNode]):\n",
    "    if node is None:\n",
    "        return (0, True)\n",
    "    \n",
    "    l_h, l_b = self.__isBalanced(node.left)\n",
    "    r_h, r_b = self.__isBalanced(node.right)\n",
    "\n",
    "    if not l_b or not r_b or (l_h-r_h) not in qr:\n",
    "        return (-1, False)\n",
    "    return (max(l_h,r_h) + 1, True)\n",
    "def isBalanced(self, root: Optional[TreeNode]) -> bool:\n",
    "    return self.__isBalanced(root)[1]\n",
    "\n",
    "bst = BinarySearchTree()\n",
    "bst.add(0)\n",
    "bst.add(-10)\n",
    "bst.add(-20)\n",
    "check_balanced(bst.root, 0)"
   ]
  },
  {
   "cell_type": "markdown",
   "id": "634bcf28-5e24-4da4-93d1-ab90f11f2584",
   "metadata": {},
   "source": [
    "### Validate BST"
   ]
  },
  {
   "cell_type": "code",
   "execution_count": null,
   "id": "cd8e760e-2a7c-4b40-9b94-ef9ba05b3801",
   "metadata": {},
   "outputs": [],
   "source": [
    "def isValidBST(self, root: Optional[TreeNode]) -> bool:\n",
    "    def helper(node: Optional[TreeNode]):\n",
    "        if not node.left and not node.right:\n",
    "            return (True, node.val, node.val)\n",
    "        elif node.left and node.righst:\n",
    "            l_b, l_min, l_max = helper(node.left)\n",
    "            r_b, r_min, r_max = helper(node.right)\n",
    "            if l_b and r_b and node.val < r_min and node.val > l_max:\n",
    "                return True, min(l_min, node.val), max(r_max, node.val)\n",
    "            return False, -1, -1\n",
    "        elif not node.left and node.right:\n",
    "            r_b, r_min, r_max = helper(node.right)\n",
    "            if r_b and node.val < r_min:\n",
    "                return True, node.val, max(r_max, node.val)\n",
    "            return False, -1, -1\n",
    "        elif node.left and not node.right:\n",
    "            l_b, l_min, l_max = helper(node.left)\n",
    "            if l_b and node.val > l_max:\n",
    "                return True, min(l_min, node.val), node.val\n",
    "            return False, -1, -1\n",
    "\n",
    "    return helper(root)[0]"
   ]
  },
  {
   "cell_type": "code",
   "execution_count": 15,
   "id": "8453510a-4029-4e46-b345-f7c0ee3dc90f",
   "metadata": {},
   "outputs": [
    {
     "data": {
      "text/plain": [
       "[10]"
      ]
     },
     "execution_count": 15,
     "metadata": {},
     "output_type": "execute_result"
    }
   ],
   "source": [
    "list(range(10,12,2))"
   ]
  },
  {
   "cell_type": "code",
   "execution_count": 13,
   "id": "ed322a50-ae26-4abc-8fea-fda31c6b8355",
   "metadata": {},
   "outputs": [
    {
     "data": {
      "text/plain": [
       "[(0, 5), (1, 6), (2, 7), (3, 8), (4, 9), (5, 10), (6, 11)]"
      ]
     },
     "execution_count": 13,
     "metadata": {},
     "output_type": "execute_result"
    }
   ],
   "source": [
    "[(i, pos) for i,pos in enumerate(range(5,12,1))]"
   ]
  },
  {
   "cell_type": "markdown",
   "id": "465e67e4-f896-4533-83c3-4a006caf8f4f",
   "metadata": {},
   "source": [
    "### Build Order"
   ]
  },
  {
   "cell_type": "markdown",
   "id": "f684c2c3-bdd7-4998-8088-c51009d7035f",
   "metadata": {},
   "source": [
    "Topological Sort Algorithm\n",
    "1. Count inbound edges for each node\n",
    "2. Initialize an order queue and a process queue\n",
    "    1. Process queue is initialized with nodes with `inbound edges == 0`\n",
    "4. While processing queue is not empty\n",
    "    1. pop top from processing queue\n",
    "    2. for all nodes x where top is a dependency, decrement the inbound edge and add to processing queue if `inbound edge of x == 0`\n",
    "    3. add top to order queue\n",
    "5. if size of order is equal to the # of nodes, then there is a valid build order. Else there is a cycle"
   ]
  },
  {
   "cell_type": "code",
   "execution_count": 51,
   "id": "c4cfc234-143a-4780-97ff-8b4447cfa336",
   "metadata": {},
   "outputs": [
    {
     "data": {
      "text/plain": [
       "['f', 'd', 'b', 'c', 'g', 'a', 'e']"
      ]
     },
     "execution_count": 51,
     "metadata": {},
     "output_type": "execute_result"
    }
   ],
   "source": [
    "# class D_Node:\n",
    "#     def __init__(self, data = None, edges = None):\n",
    "#         self.data = data\n",
    "#         self.edges = edges if edges else [] \n",
    "# class D_Graph:\n",
    "#     def __init__(self):\n",
    "#         self.nodes = []\n",
    "#     def add(self, data = None, edges = None):\n",
    "#         node = D_Node(data, edges)\n",
    "#         self.nodes.append(node)\n",
    "#     def add_edges(self, edges): # (a,d): a <- d\n",
    "#         for neighbor, node in edges:\n",
    "#             node.edges.append(neighbor)\n",
    "\n",
    "# (a,d): a -> d\n",
    "# using numbers to simplify code\n",
    "# Orders with no dependencies of form (order, None)\n",
    "# TODO: Cycle detection\n",
    "def build_order(dependencies):\n",
    "    inbound = {}\n",
    "    for dep, node in dependencies:\n",
    "        if node is None:\n",
    "            inbound[dep] = 0\n",
    "        elif node not in inbound:\n",
    "            inbound[node] = 1\n",
    "        else:\n",
    "            inbound[node] += 1\n",
    "\n",
    "    order, process_next = [], [x for x in inbound if inbound[x] == 0]\n",
    "    \n",
    "    while len(process_next) > 0:\n",
    "        top = process_next.pop(0)\n",
    "\n",
    "        for dep, node in dependencies:\n",
    "            if node is None:\n",
    "                continue\n",
    "            if dep == top:\n",
    "                inbound[node] -= 1\n",
    "                if inbound[node] == 0:\n",
    "                    process_next.append(node)\n",
    "        \n",
    "        order.append(top)\n",
    "    if len(order) != len(inbound):\n",
    "        raise Exception(\"No possible build order\")\n",
    "    return order\n",
    "\n",
    "orders = [('a', 'd'), ('e', 'a'), ('f', 'b'), ('b', 'd'), ('f', 'a'), ('d', 'c'), ('e', None), ('f', None)]\n",
    "orders = [('f', 'b'), ('f', 'c'), ('f', 'a'), ('b', 'a'), ('c', 'a'), ('a', 'e'), ('b', 'e'), ('d', 'g'), ('f', None), ('d', None)]\n",
    "build_order(orders)"
   ]
  },
  {
   "cell_type": "code",
   "execution_count": null,
   "id": "0dc55b8d-dcb5-4198-8f6a-a52c1a70cc92",
   "metadata": {},
   "outputs": [],
   "source": [
    "def build_order_old(depdendencies):\n",
    "    requisites = {}\n",
    "    n = 0\n",
    "    for order, pre_req in depdendencies:\n",
    "        if pre_req is None:\n",
    "            requisites[order] = set()\n",
    "            continue\n",
    "        if pre_req not in requisites:\n",
    "            requisites[pre_req] = set()\n",
    "        requisites[pre_req].add(order)\n",
    "        if order not in requisites:\n",
    "            requisites[order] = set() \n",
    "    \n",
    "    queue = [r for r in requisites if len(requisites[r]) == 0]\n",
    "    ans = []\n",
    "    built = set() # cycle detection\n",
    "    if len(queue) == 0:\n",
    "        raise Exception('No Build Error')\n",
    "    while len(queue) > 0:\n",
    "        top = queue.pop(0)\n",
    "            \n",
    "        if len(requisites[top]) == 0:\n",
    "            ans.append(top)\n",
    "            built.add(top)\n",
    "            for r in requisites:\n",
    "                if top in requisites[r]:\n",
    "                    requisites[r].remove(top)\n",
    "                    queue.append(r)\n",
    "    return ans"
   ]
  },
  {
   "cell_type": "markdown",
   "id": "7b1cfe6e-5902-4be8-8a32-1c13f1a8f700",
   "metadata": {},
   "source": [
    "### Common Ancestor"
   ]
  },
  {
   "cell_type": "code",
   "execution_count": null,
   "id": "d795d6c3-7db2-4fd1-8081-240fb64529b6",
   "metadata": {},
   "outputs": [],
   "source": [
    "def lowestCommonAncestor(\n",
    "        self, root: \"TreeNode\", p: \"TreeNode\", q: \"TreeNode\"\n",
    "    ) -> \"TreeNode\":\n",
    "\n",
    "        def find_lca(node: Optional[\"TreeNode\"]):\n",
    "            if node is None:\n",
    "                return None\n",
    "\n",
    "            is_in_left = find_lca(node.left)\n",
    "            is_in_right = find_lca(node.right)\n",
    "\n",
    "            if is_in_left and is_in_right:\n",
    "                return node\n",
    "\n",
    "            is_self = node == p or node == q\n",
    "\n",
    "            if is_in_left and not is_self:\n",
    "                return is_in_left\n",
    "            elif is_in_right and not is_self:\n",
    "                return is_in_right\n",
    "            elif is_self and (is_in_left or is_in_right):\n",
    "                return node\n",
    "            return node if is_self else None\n",
    "\n",
    "        ans = find_lca(root)\n",
    "\n",
    "        return ans if ans else root\n"
   ]
  }
 ],
 "metadata": {
  "kernelspec": {
   "display_name": "Python 3 (ipykernel)",
   "language": "python",
   "name": "python3"
  },
  "language_info": {
   "codemirror_mode": {
    "name": "ipython",
    "version": 3
   },
   "file_extension": ".py",
   "mimetype": "text/x-python",
   "name": "python",
   "nbconvert_exporter": "python",
   "pygments_lexer": "ipython3",
   "version": "3.12.4"
  }
 },
 "nbformat": 4,
 "nbformat_minor": 5
}
