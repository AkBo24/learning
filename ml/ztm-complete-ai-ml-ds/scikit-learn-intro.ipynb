{
 "cells": [
  {
   "cell_type": "markdown",
   "id": "62c88c02-07d2-4e2c-bb7d-84ce9a572f03",
   "metadata": {},
   "source": [
    "# A Quick Machine Learning Modelling Tutorial with Python and Scikit-Learn\n",
    "\n",
    "#### Resources\n",
    "- https://github.com/mrdbourke/zero-to-mastery-ml/blob/81492352d12d7a52caef57bba7744cbdc34af33f/section-2-data-science-and-ml-tools/introduction-to-scikit-learn.ipynb\n",
    "\n",
    "## Overview\n",
    "[Scikit-Learn](https://scikit-learn.org) (`sklearn`) is an open-sourced, Python, ML library built on NumPy and Matplotlib.\n",
    "- provides many utilities for common ML activities"
   ]
  },
  {
   "cell_type": "code",
   "execution_count": 14,
   "id": "708d7596-2d5d-4f77-a16a-08fe24a82edd",
   "metadata": {},
   "outputs": [],
   "source": [
    "import pandas as pd\n",
    "from sklearn.model_selection import train_test_split"
   ]
  },
  {
   "cell_type": "markdown",
   "id": "fe3b9603-91f5-4370-83a6-859ae3406e35",
   "metadata": {},
   "source": [
    "### End-to-end Scikit-learn Workflow\n",
    "> **note**: this notebook is focused on supervised learning\n",
    "\n",
    " 1. Prepare data (cleaning, split into features & labels, split into training and testing, etc.)\n",
    " 2. Choose the right model (linear regression, k-means, classification, etc.)\n",
    " 3. Fit the model to the data and use it to make predictions\n",
    " 4. Evaluate the model (and iterate!)\n",
    " 5. Prepare for deployment & sharing"
   ]
  },
  {
   "cell_type": "markdown",
   "id": "2f1bc9e7-2740-4d96-b81b-276f063f9002",
   "metadata": {},
   "source": [
    "## 1. Prepare Data\n",
    "\n",
    "The main data transformation actions you'll have to take are:\n",
    "- splitting data columns into features & labesl (often labelled `X` and `Y`)\n",
    "- splitting the data records into test, validation, and training subsets\n",
    "- filling (aka imputing) or dropping missing values\n",
    "- converting non-numerical data into a numerical format (**feature-encoding**)"
   ]
  },
  {
   "cell_type": "code",
   "execution_count": 15,
   "id": "c9ee4700-e981-4f59-be3c-832bb73d3994",
   "metadata": {},
   "outputs": [],
   "source": [
    "heart_disease = pd.read_csv(\"https://raw.githubusercontent.com/mrdbourke/zero-to-mastery-ml/master/data/heart-disease.csv\") # load data directly from URL (requires raw form on GitHub, source: https://github.com/mrdbourke/zero-to-mastery-ml/blob/master/data/heart-disease.csv)\n",
    "X = heart_disease.drop('target', axis=1)\n",
    "Y = heart_disease['target']\n",
    "\n",
    "X_train, X_test, y_train, y_test = train_test_split(X, Y, test_size=0.2)"
   ]
  }
 ],
 "metadata": {
  "kernelspec": {
   "display_name": "Python 3 (ipykernel)",
   "language": "python",
   "name": "python3"
  },
  "language_info": {
   "codemirror_mode": {
    "name": "ipython",
    "version": 3
   },
   "file_extension": ".py",
   "mimetype": "text/x-python",
   "name": "python",
   "nbconvert_exporter": "python",
   "pygments_lexer": "ipython3",
   "version": "3.12.7"
  }
 },
 "nbformat": 4,
 "nbformat_minor": 5
}
